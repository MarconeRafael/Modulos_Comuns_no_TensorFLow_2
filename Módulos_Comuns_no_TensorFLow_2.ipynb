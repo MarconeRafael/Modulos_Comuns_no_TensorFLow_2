{
  "cells": [
    {
      "cell_type": "markdown",
      "metadata": {
        "id": "view-in-github",
        "colab_type": "text"
      },
      "source": [
        "<a href=\"https://colab.research.google.com/github/MarconeRafael/Modulos_Comuns_no_TensorFLow_2/blob/main/M%C3%B3dulos_Comuns_no_TensorFLow_2.ipynb\" target=\"_parent\"><img src=\"https://colab.research.google.com/assets/colab-badge.svg\" alt=\"Open In Colab\"/></a>"
      ]
    },
    {
      "cell_type": "code",
      "execution_count": 1,
      "id": "542eecb2",
      "metadata": {
        "id": "542eecb2"
      },
      "outputs": [],
      "source": [
        "import tensorflow as tf"
      ]
    },
    {
      "cell_type": "markdown",
      "id": "ee832323",
      "metadata": {
        "id": "ee832323"
      },
      "source": [
        "# 2. Módulos Comuns no TensorFlow 2"
      ]
    },
    {
      "cell_type": "markdown",
      "id": "85e7f24a",
      "metadata": {
        "id": "85e7f24a"
      },
      "source": [
        "## 2.1 Construindo Modelos Sequenciais - .Sequential()\n",
        "\n",
        "A maneira mais comum de construir um modelo é empilhar camadas usando **tf.keras.Sequential**.\n",
        "\n"
      ]
    },
    {
      "cell_type": "code",
      "execution_count": 2,
      "id": "c16ccc51",
      "metadata": {
        "id": "c16ccc51",
        "outputId": "cb4d5be6-0e28-44bc-e82a-603cf8127dc7",
        "colab": {
          "base_uri": "https://localhost:8080/"
        }
      },
      "outputs": [
        {
          "output_type": "execute_result",
          "data": {
            "text/plain": [
              "<keras.src.engine.sequential.Sequential at 0x789f8fc0bac0>"
            ]
          },
          "metadata": {},
          "execution_count": 2
        }
      ],
      "source": [
        "modelo = tf.keras.Sequential()\n",
        "\n",
        "modelo.add(tf.keras.layers.Dense(32, activation='relu'))\n",
        "modelo.add(tf.keras.layers.Dense(32, activation='relu'))\n",
        "modelo.add(tf.keras.layers.Dense(10, activation='relu'))\n",
        "\n",
        "modelo"
      ]
    },
    {
      "cell_type": "markdown",
      "id": "6f0e194e",
      "metadata": {
        "id": "6f0e194e"
      },
      "source": [
        "## 2.1.1 Construindo um Modelo Funcional - .Model()\n",
        "\n",
        "Os modelos funcionais são construídos principalmente usando **tf.keras.Input** e **tf.keras.Model**, que são mais complexos que **tf.keras.Sequential**, mas têm um bom efeito. As variáveis podem ser inseridas ao mesmo tempo ou em diferentes fases, e os dados podem ser emitidos em diferentes fases. Modelos funcionais são preferidos se mais de uma saída de modelo for necessária.\n",
        "\n",
        "**.Sequential vs .Model**:\n",
        "O modelo tf.keras.Sequential é uma pilha simples de camadas que não pode representar modelos arbitrários. Você pode usar a API funcional Keras (i.e., .Model) para construir topologias de modelos complexos, por exemplo:\n",
        "* Modelos multi-entrada\n",
        "* Modelos de múltiplas saídas\n",
        "* Modelos com camadas compartilhadas\n",
        "* Modelos com fluxos de dados não sequenciais (por exemplo, conexões residuais)"
      ]
    },
    {
      "cell_type": "code",
      "execution_count": 3,
      "id": "82f27121",
      "metadata": {
        "id": "82f27121",
        "outputId": "454812f8-8554-4e63-89db-8639ec5017a1",
        "colab": {
          "base_uri": "https://localhost:8080/"
        }
      },
      "outputs": [
        {
          "output_type": "stream",
          "name": "stdout",
          "text": [
            "Model: \"model\"\n",
            "_________________________________________________________________\n",
            " Layer (type)                Output Shape              Param #   \n",
            "=================================================================\n",
            " input_1 (InputLayer)        [(None, 32)]              0         \n",
            "                                                                 \n",
            " dense_3 (Dense)             (None, 32)                1056      \n",
            "                                                                 \n",
            " dense_4 (Dense)             (None, 32)                1056      \n",
            "                                                                 \n",
            " dense_5 (Dense)             (None, 10)                330       \n",
            "                                                                 \n",
            "=================================================================\n",
            "Total params: 2442 (9.54 KB)\n",
            "Trainable params: 2442 (9.54 KB)\n",
            "Non-trainable params: 0 (0.00 Byte)\n",
            "_________________________________________________________________\n"
          ]
        }
      ],
      "source": [
        "entrada  = tf.keras.Input(shape=(32,))\n",
        "camada_1 = tf.keras.layers.Dense(32, activation='relu')(entrada)\n",
        "camada_2 = tf.keras.layers.Dense(32, activation='relu')(camada_1)\n",
        "saida    = tf.keras.layers.Dense(10, activation='softmax')(camada_2)\n",
        "\n",
        "modelo_2 = tf.keras.models.Model(entrada, saida)\n",
        "# Print modelo\n",
        "modelo_2.summary()"
      ]
    },
    {
      "cell_type": "markdown",
      "id": "09c0608c",
      "metadata": {
        "id": "09c0608c"
      },
      "source": [
        "## 2.2 Camadas Disponíveis\n",
        "\n",
        "O módulo **tf.keras.layers** é usado para configurar as camadas da rede neural. As classes comuns incluem:\n",
        "\n",
        "* **tf.keras.layers.Dense**: constrói uma camada totalmente conectada.\n",
        "* **tf.keras.layers.Conv2D**: constrói uma camada convolucional bidimensional.\n",
        "* **tf.keras.layers.MaxPooling2D/AveragePooling2D**: constrói uma camada de agrupamento máximo/médio.\n",
        "* **tf.keras.layers.RNN**: Constrói uma camada de rede neural recorrente.\n",
        "* **tf.keras.layers.LSTM**: constrói uma camada de rede LSTM/unidade LSTM.\n",
        "* **tf.keras.layers.GRU**: constrói uma unidade GRU/camada de rede GRU.\n",
        "* **tf.keras.layers.Embedding**: converte um inteiro positivo (subscrito) em um vetor de tamanho fixo, por exemplo, converte [[4],[20]] em [[0.25,0.1],[0.6,-0.2 ]]. A camada de embedding pode ser usada apenas como a primeira camada de modelo.\n",
        "* **tf.keras.layers.Dropout**: constrói a camada dropout.\n",
        "\n",
        "Os principais parâmetros de configuração de rede em tf.keras.layers incluem:\n",
        "\n",
        "* **activation**: define a função de ativação de uma camada. Por padrão, o sistema não usa nenhuma função de ativação.\n",
        "* **kernel_initializer e bias_initializer**: esquemas de inicialização que criam os pesos de uma camada (kernel e bias). O padrão é o inicializador uniforme Glorot.\n",
        "* **kernel_regularizer e bias_regularizer**: esquemas de regularização que se aplicam aos pesos de uma camada (kernel e bias), por exemplo, regularização L1 ou L2. Por padrão, o sistema não usa funções de regularização."
      ]
    },
    {
      "cell_type": "markdown",
      "id": "620fb4d4",
      "metadata": {
        "id": "620fb4d4"
      },
      "source": [
        "### 2.2.1 Dense Layer\n",
        "\n",
        "Os principais parâmetros de configuração em tf.keras.layers.Dense incluem:\n",
        "\n",
        "* **units**: número de neurônios\n",
        "* **activation**: função de ativação\n",
        "* **use_bias**: se deve usar os termos de bias. São usados por padrão.\n",
        "* **kernel_initializer**: esquema de inicialização que cria o peso de uma camada (kernel)\n",
        "* **bias_initializer**: esquema de inicialização que cria o peso de uma camada (bias)\n",
        "* **kernel_regularizer**: esquema de regularização que aplica o peso de uma camada (kernel)\n",
        "* **bias_regularizer**: esquema de regularização que aplica o peso de uma camada (bias)\n",
        "* **activity_regularizer**: item regular aplicado à saída, um objeto Regularizador\n",
        "* **kernel_constraint**: restrição aplicada a um peso\n",
        "* **bias_constraint**: restrição aplicada a um peso"
      ]
    },
    {
      "cell_type": "code",
      "execution_count": 4,
      "id": "cc1b48c6",
      "metadata": {
        "id": "cc1b48c6",
        "outputId": "c36765b9-1661-458d-abba-e764d0a9e8d2",
        "colab": {
          "base_uri": "https://localhost:8080/"
        }
      },
      "outputs": [
        {
          "output_type": "execute_result",
          "data": {
            "text/plain": [
              "<keras.src.layers.core.dense.Dense at 0x789f8f270ac0>"
            ]
          },
          "metadata": {},
          "execution_count": 4
        }
      ],
      "source": [
        "'''\n",
        "Crie uma camada totalmente conectada que contém 32 neurônios e defina a função de ativação para\n",
        "sigmoide. O parâmetro de ativação pode ser definido como uma string de nome de função, por exemplo,\n",
        "sigmoid, ou um objeto de função, i.e., tf.sigmoid.tf.keras.layers.Dense(32, activation='sigmoid')\n",
        "'''\n",
        "tf.keras.layers.Dense(32, activation=tf.sigmoid)\n",
        "# Set kernel_initializer.\n",
        "tf.keras.layers.Dense(32, kernel_initializer=tf.keras.initializers.he_normal)\n",
        "# Set kernel_regularizer to the L2 regularization.\n",
        "tf.keras.layers.Dense(32, kernel_regularizer=tf.keras.regularizers.l2(0.01))"
      ]
    },
    {
      "cell_type": "markdown",
      "id": "5031a16a",
      "metadata": {
        "id": "5031a16a"
      },
      "source": [
        "### 2.2.2 Conv2D Layer\n",
        "\n",
        "Os principais parâmetros de configuração em tf.keras.layers.Conv2D incluem:\n",
        "\n",
        "* **filters**: número de kernels de convolução (dimensões de saída)\n",
        "* **kernel_size**: largura e comprimento de um kernel de convolução\n",
        "* **strides**: passo de convolução\n",
        "* **padding**: política de preenchimento zero. Quando o preenchimento é definido como válido, apenas a convolução válida é executada, ou seja, os dados de limite não são processados. Quando o preenchimento é definido como igual, o resultado da convolução no limite é reservado e, consequentemente, a forma de saída geralmente é a mesma que a forma de entrada.\n",
        "* **activation**: função de ativação\n",
        "* **data_format**: formato de dados. O valor pode ser canais_primeiro ou canais_último. Por exemplo, para uma imagem RGB de 128 x 128, os dados são organizados como (3,128,128) se o valor for canais_primeiro e como (128,128,3) se o valor for canais_último. O valor padrão deste parâmetro é o valor definido em ~/.keras/keras.json. Se o valor nunca foi definido, o valor padrão é channel_last.\n",
        "* Outros parâmetros incluem use_bias, kernel_initializer, bias_initializer, kernel_regularizer, bias_regularizer, activity_regularizer, kernel_constraints e bias_constraints."
      ]
    },
    {
      "cell_type": "code",
      "execution_count": 5,
      "id": "46a0a5f2",
      "metadata": {
        "id": "46a0a5f2",
        "outputId": "8e964fc1-cfe9-4cde-a792-4ab102ca0611",
        "colab": {
          "base_uri": "https://localhost:8080/"
        }
      },
      "outputs": [
        {
          "output_type": "execute_result",
          "data": {
            "text/plain": [
              "<keras.src.layers.convolutional.conv2d.Conv2D at 0x789f8fc0b6a0>"
            ]
          },
          "metadata": {},
          "execution_count": 5
        }
      ],
      "source": [
        "tf.keras.layers.Conv2D(64,[1,1],2,padding='same',activation=\"relu\")"
      ]
    },
    {
      "cell_type": "markdown",
      "id": "5480e725",
      "metadata": {
        "id": "5480e725"
      },
      "source": [
        "### 2.2.3 MaxPooling2D e AveragePooling2D Layers\n",
        "\n",
        "Os principais parâmetros de configuração em tf.keras.layers.MaxPooling2D/AveragePooling2D incluem:\n",
        "* **pool_size**: tamanho do kernel agrupado. Por exemplo, se a matriz (2, 2) for usada, a imagem fica com metade do comprimento original em ambas as dimensões. Se esse parâmetro for definido como um número inteiro, o número inteiro será o valor de todas as dimensões.\n",
        "* **strides**: valor do passo.\n",
        "* Outros parâmetros incluem padding e data_format."
      ]
    },
    {
      "cell_type": "code",
      "execution_count": 6,
      "id": "41b443dc",
      "metadata": {
        "id": "41b443dc",
        "outputId": "7019f476-5a07-4fdc-f130-135a39f96a8c",
        "colab": {
          "base_uri": "https://localhost:8080/"
        }
      },
      "outputs": [
        {
          "output_type": "execute_result",
          "data": {
            "text/plain": [
              "<keras.src.layers.pooling.max_pooling2d.MaxPooling2D at 0x789f8fc0b970>"
            ]
          },
          "metadata": {},
          "execution_count": 6
        }
      ],
      "source": [
        "tf.keras.layers.MaxPooling2D(pool_size=(2,2),strides=(2,1))"
      ]
    },
    {
      "cell_type": "markdown",
      "id": "802a7e36",
      "metadata": {
        "id": "802a7e36"
      },
      "source": [
        "### 2.2.4 LSTM e GRU Layers\n",
        "\n",
        "Os principais parâmetros de configuração em tf.keras.layers.LSTM e tf.keras.layers.GRU incluem:\n",
        "\n",
        "* **units**: dimensão de saída\n",
        "* **input_shape** (timestep, input_dim): timestep pode ser definido como None e input_dim indica as dimensões dos dados de entrada.\n",
        "* **activation**: função de ativação\n",
        "* **recurrent_activation**: função de ativação a ser usada para a etapa recorrente\n",
        "* **return_sequences**: Se o valor for True, todas as sequências são retornadas. Se o valor for Falso, a saída na última célula da sequência de saída será retornada.\n",
        "* **return_state**: Valor booleano, indicando se deve retornar o último estado além da saída.\n",
        "* **dropout**: flutua entre 0 e 1, fração dos neurônios a cair para a transformação linear das entradas\n",
        "* **recurrent_dropout**: flutua entre 0 e 1, fração dos neurônios a cair para a transformação linear do estado recorrente"
      ]
    },
    {
      "cell_type": "code",
      "execution_count": 7,
      "id": "9211b881",
      "metadata": {
        "id": "9211b881",
        "outputId": "e7200e65-21bc-4a93-e1b4-23e7a6377b50",
        "colab": {
          "base_uri": "https://localhost:8080/"
        }
      },
      "outputs": [
        {
          "output_type": "stream",
          "name": "stdout",
          "text": [
            "[[[0.1], [0.2], [0.3]]]\n",
            "1/1 [==============================] - 1s 708ms/step\n",
            "Saída quando return_sequences é definido como True\n",
            " [[[-0.01530277]\n",
            "  [-0.0430234 ]\n",
            "  [-0.07951193]]]\n",
            "1/1 [==============================] - 1s 548ms/step\n",
            "Saída quando return_sequences é definido como False\n",
            " [[-0.05740608]]\n"
          ]
        }
      ],
      "source": [
        "inputs       = tf.keras.Input(shape=(3, 1))\n",
        "lstm         = tf.keras.layers.LSTM(1, return_sequences=True)(inputs)\n",
        "model_lstm_1 = tf.keras.models.Model(inputs=inputs, outputs=lstm)\n",
        "inputs       = tf.keras.Input(shape=(3, 1))\n",
        "\n",
        "lstm         = tf.keras.layers.LSTM(1, return_sequences=False)(inputs)\n",
        "model_lstm_2 = tf.keras.models.Model(inputs=inputs, outputs=lstm)\n",
        "\n",
        "# Sequences t1, t2, and t3\n",
        "data = [[[0.1],[0.2],[0.3]]]\n",
        "print(data)\n",
        "print(\"Saída quando return_sequences é definido como True\\n\",model_lstm_1.predict(data))\n",
        "print(\"Saída quando return_sequences é definido como False\\n\",model_lstm_2.predict(data))"
      ]
    },
    {
      "cell_type": "markdown",
      "id": "da11bc21",
      "metadata": {
        "id": "da11bc21"
      },
      "source": [
        "## 2.3 Compilando Modelos\n",
        "\n",
        "Após a construção de um modelo, chame compile para configurar seu processo de aprendizagem:\n",
        "\n",
        "compile( Optimizer='rmsprop', loss=None,metrics=None, loss_weights=None):\n",
        "* **optimizer**: otimizador\n",
        "* **loss**: função de perda, entropia cruzada para tarefas binárias e MSE para tarefas de regressão\n",
        "* **metrics**: critérios de avaliação do modelo durante o treinamento e teste. Por exemplo, as métricas podem ser definidas como ['accuracy']. Para especificar vários critérios de avaliação, transfira um dicionário. Por exemplo, defina as métricas como {'output_a':'accuracy'}.\n",
        "* **loss_weights**: Se o modelo tiver várias saídas de tarefa, você precisará especificar um peso para cada saída ao otimizar a perda global."
      ]
    },
    {
      "cell_type": "code",
      "execution_count": 8,
      "id": "82c5ca85",
      "metadata": {
        "id": "82c5ca85"
      },
      "outputs": [],
      "source": [
        "model = tf.keras.Sequential()\n",
        "model.add(tf.keras.layers.Dense(10, activation='softmax'))\n",
        "\n",
        "model.compile(optimizer = tf.keras.optimizers.Adam(0.001),\n",
        "              loss      = tf.keras.losses.categorical_crossentropy,\n",
        "              metrics   = [tf.keras.metrics.categorical_accuracy])"
      ]
    },
    {
      "cell_type": "markdown",
      "id": "f6bc478a",
      "metadata": {
        "id": "f6bc478a"
      },
      "source": [
        "## 2.4 Treinando Modelos\n",
        "\n",
        "fit(x=None, y=None, batch_size=None, epochs=1, verbose=1, callbacks=None, validation_split=0.0, validation_data=None, shuffle=True, class_weight=None, sample_weight=None, initial_epoch=0, steps_per_epoch=None, validation_steps=None):\n",
        "\n",
        "* **x**: dados de treinamento de entrada\n",
        "* **y**: labels (rotulado)\n",
        "* **batch_size**: número de amostras para cada atualização de gradiente. O valor padrão 32.\n",
        "* **epochs**: número de rodadas de iteração do modelo de treinamento\n",
        "* **verbose**: modo de exibição de log. O valor pode ser 0, 1 ou 2. 0 = sem exibição; 1 = barra de progresso; 2 = uma linha para cada rodada\n",
        "* **callbacks**: função callback utilizada durante o treinamento\n",
        "* **validação_split**: proporção do conjunto de dados de validação para os dados de treinamento\n",
        "* **validação_data**: conjunto de dados de validação. Este parâmetro substitui validação_split.\n",
        "* **shuffle**: se os dados devem ser embaralhados antes de cada rodada de iteração. Este parâmetro é inválido quando steps_per_epoch não é None.\n",
        "* **initial_epoc**h: época em que se inicia o treino (útil para retomar um peso de treino anterior)\n",
        "* **steps_per_epoch**: definido para o tamanho do conjunto de dados ou batch_size\n",
        "* **valid_steps**: Número total de etapas (lotes de amostras) a serem validadas antes de parar. Este parâmetro é válido apenas quando steps_per_epoch é especificado."
      ]
    },
    {
      "cell_type": "code",
      "execution_count": 9,
      "id": "990ed4c9",
      "metadata": {
        "id": "990ed4c9",
        "outputId": "61fa3298-3f77-4237-8aec-74a3019cffc7",
        "colab": {
          "base_uri": "https://localhost:8080/"
        }
      },
      "outputs": [
        {
          "output_type": "stream",
          "name": "stdout",
          "text": [
            "Epoch 1/10\n",
            "10/10 [==============================] - 1s 34ms/step - loss: 12.3252 - categorical_accuracy: 0.1110 - val_loss: 12.1683 - val_categorical_accuracy: 0.0850\n",
            "Epoch 2/10\n",
            "10/10 [==============================] - 0s 8ms/step - loss: 12.3249 - categorical_accuracy: 0.1110 - val_loss: 12.1681 - val_categorical_accuracy: 0.0850\n",
            "Epoch 3/10\n",
            "10/10 [==============================] - 0s 8ms/step - loss: 12.3244 - categorical_accuracy: 0.1110 - val_loss: 12.1676 - val_categorical_accuracy: 0.0850\n",
            "Epoch 4/10\n",
            "10/10 [==============================] - 0s 8ms/step - loss: 12.3235 - categorical_accuracy: 0.1110 - val_loss: 12.1668 - val_categorical_accuracy: 0.0850\n",
            "Epoch 5/10\n",
            "10/10 [==============================] - 0s 8ms/step - loss: 12.3238 - categorical_accuracy: 0.1110 - val_loss: 12.1676 - val_categorical_accuracy: 0.0850\n",
            "Epoch 6/10\n",
            "10/10 [==============================] - 0s 6ms/step - loss: 12.3240 - categorical_accuracy: 0.1110 - val_loss: 12.1675 - val_categorical_accuracy: 0.0850\n",
            "Epoch 7/10\n",
            "10/10 [==============================] - 0s 9ms/step - loss: 12.3237 - categorical_accuracy: 0.1110 - val_loss: 12.1671 - val_categorical_accuracy: 0.0850\n",
            "Epoch 8/10\n",
            "10/10 [==============================] - 0s 8ms/step - loss: 12.3231 - categorical_accuracy: 0.1110 - val_loss: 12.1660 - val_categorical_accuracy: 0.0850\n",
            "Epoch 9/10\n",
            "10/10 [==============================] - 0s 9ms/step - loss: 12.3222 - categorical_accuracy: 0.1110 - val_loss: 12.1657 - val_categorical_accuracy: 0.0850\n",
            "Epoch 10/10\n",
            "10/10 [==============================] - 0s 8ms/step - loss: 12.3222 - categorical_accuracy: 0.1110 - val_loss: 12.1662 - val_categorical_accuracy: 0.0850\n"
          ]
        },
        {
          "output_type": "execute_result",
          "data": {
            "text/plain": [
              "<keras.src.callbacks.History at 0x789f8f273af0>"
            ]
          },
          "metadata": {},
          "execution_count": 9
        }
      ],
      "source": [
        "import numpy as np\n",
        "\n",
        "train_x = np.random.random((1000, 36))\n",
        "train_y = np.random.random((1000, 10))\n",
        "val_x   = np.random.random((200, 36))\n",
        "val_y   = np.random.random((200, 10))\n",
        "\n",
        "model.fit(train_x, train_y, epochs=10, batch_size=100,\n",
        "validation_data=(val_x, val_y))"
      ]
    },
    {
      "cell_type": "markdown",
      "id": "8aff1227",
      "metadata": {
        "id": "8aff1227"
      },
      "source": [
        "Para grandes conjuntos de dados, você pode usar tf.data para criar pipelines de entrada de treinamento."
      ]
    },
    {
      "cell_type": "code",
      "execution_count": 10,
      "id": "d4abface",
      "metadata": {
        "scrolled": true,
        "id": "d4abface",
        "outputId": "e5a6fd40-f09f-4d1a-c2ed-a3eb62aec6ac",
        "colab": {
          "base_uri": "https://localhost:8080/"
        }
      },
      "outputs": [
        {
          "output_type": "stream",
          "name": "stdout",
          "text": [
            "Epoch 1/10\n",
            "30/30 [==============================] - 1s 8ms/step - loss: 12.3422 - categorical_accuracy: 0.1083 - val_loss: 11.9880 - val_categorical_accuracy: 0.0625\n",
            "Epoch 2/10\n",
            "30/30 [==============================] - 0s 3ms/step - loss: 12.3048 - categorical_accuracy: 0.1100 - val_loss: 11.9845 - val_categorical_accuracy: 0.0625\n",
            "Epoch 3/10\n",
            "30/30 [==============================] - 0s 3ms/step - loss: 12.2976 - categorical_accuracy: 0.1154 - val_loss: 11.9810 - val_categorical_accuracy: 0.0729\n",
            "Epoch 4/10\n",
            "30/30 [==============================] - 0s 3ms/step - loss: 12.3399 - categorical_accuracy: 0.1143 - val_loss: 11.9775 - val_categorical_accuracy: 0.0729\n",
            "Epoch 5/10\n",
            "30/30 [==============================] - 0s 3ms/step - loss: 12.3017 - categorical_accuracy: 0.1111 - val_loss: 11.9739 - val_categorical_accuracy: 0.0729\n",
            "Epoch 6/10\n",
            "30/30 [==============================] - 0s 3ms/step - loss: 12.2947 - categorical_accuracy: 0.1100 - val_loss: 11.9709 - val_categorical_accuracy: 0.0729\n",
            "Epoch 7/10\n",
            "30/30 [==============================] - 0s 3ms/step - loss: 12.3201 - categorical_accuracy: 0.1111 - val_loss: 11.9683 - val_categorical_accuracy: 0.0729\n",
            "Epoch 8/10\n",
            "30/30 [==============================] - 0s 3ms/step - loss: 12.3433 - categorical_accuracy: 0.1132 - val_loss: 11.9662 - val_categorical_accuracy: 0.0729\n",
            "Epoch 9/10\n",
            "30/30 [==============================] - 0s 3ms/step - loss: 12.3049 - categorical_accuracy: 0.1154 - val_loss: 11.9647 - val_categorical_accuracy: 0.0729\n",
            "Epoch 10/10\n",
            "30/30 [==============================] - 0s 3ms/step - loss: 12.2839 - categorical_accuracy: 0.1100 - val_loss: 11.9626 - val_categorical_accuracy: 0.0729\n"
          ]
        },
        {
          "output_type": "execute_result",
          "data": {
            "text/plain": [
              "<keras.src.callbacks.History at 0x789f8d08ed70>"
            ]
          },
          "metadata": {},
          "execution_count": 10
        }
      ],
      "source": [
        "dataset     = tf.data.Dataset.from_tensor_slices((train_x, train_y))\n",
        "dataset     = dataset.batch(32)\n",
        "dataset     = dataset.repeat()\n",
        "\n",
        "val_dataset = tf.data.Dataset.from_tensor_slices((val_x, val_y))\n",
        "val_dataset = val_dataset.batch(32)\n",
        "val_dataset = val_dataset.repeat()\n",
        "\n",
        "model.fit(dataset, epochs=10, steps_per_epoch=30,\n",
        "validation_data=val_dataset, validation_steps=3)"
      ]
    },
    {
      "cell_type": "code",
      "execution_count": 11,
      "id": "71f0787c",
      "metadata": {
        "id": "71f0787c",
        "outputId": "e38a3696-040b-444f-cb6f-8c833b004424",
        "colab": {
          "base_uri": "https://localhost:8080/"
        }
      },
      "outputs": [
        {
          "output_type": "stream",
          "name": "stdout",
          "text": [
            "0.1\n",
            "Epoch 1/10\n",
            "63/63 [==============================] - 1s 8ms/step - loss: 12.5231 - categorical_accuracy: 0.1010 - val_loss: 12.9611 - val_categorical_accuracy: 0.0900 - lr: 0.1000\n",
            "0.1\n",
            "Epoch 2/10\n",
            "54/63 [========================>.....] - ETA: 0s - loss: 12.5874 - categorical_accuracy: 0.0961"
          ]
        },
        {
          "output_type": "stream",
          "name": "stderr",
          "text": [
            "/usr/local/lib/python3.10/dist-packages/keras/src/engine/training.py:3000: UserWarning: You are saving your model as an HDF5 file via `model.save()`. This file format is considered legacy. We recommend using instead the native Keras format, e.g. `model.save('my_model.keras')`.\n",
            "  saving_api.save_model(\n"
          ]
        },
        {
          "output_type": "stream",
          "name": "stdout",
          "text": [
            "\b\b\b\b\b\b\b\b\b\b\b\b\b\b\b\b\b\b\b\b\b\b\b\b\b\b\b\b\b\b\b\b\b\b\b\b\b\b\b\b\b\b\b\b\b\b\b\b\b\b\b\b\b\b\b\b\b\b\b\b\b\b\b\b\b\b\b\b\b\b\b\b\b\b\b\b\b\b\b\b\b\b\b\b\b\b\b\b\b\b\b\b\b\b\b\r63/63 [==============================] - 0s 4ms/step - loss: 12.6427 - categorical_accuracy: 0.0950 - val_loss: 12.3998 - val_categorical_accuracy: 0.1050 - lr: 0.1000\n",
            "0.1\n",
            "Epoch 3/10\n",
            "63/63 [==============================] - 0s 5ms/step - loss: 12.7055 - categorical_accuracy: 0.0910 - val_loss: 11.8551 - val_categorical_accuracy: 0.0700 - lr: 0.1000\n",
            "0.01\n",
            "Epoch 4/10\n",
            "63/63 [==============================] - 0s 4ms/step - loss: 12.1478 - categorical_accuracy: 0.1130 - val_loss: 12.0484 - val_categorical_accuracy: 0.0750 - lr: 0.0100\n",
            "0.01\n",
            "Epoch 5/10\n",
            "63/63 [==============================] - 0s 4ms/step - loss: 12.2521 - categorical_accuracy: 0.1040 - val_loss: 12.0957 - val_categorical_accuracy: 0.0850 - lr: 0.0100\n"
          ]
        },
        {
          "output_type": "execute_result",
          "data": {
            "text/plain": [
              "<keras.src.callbacks.History at 0x789f8d03d240>"
            ]
          },
          "metadata": {},
          "execution_count": 11
        }
      ],
      "source": [
        "import os\n",
        "# Set hyperparameters.\n",
        "Epochs = 10\n",
        "logdir=os.path.join(\"logs\")\n",
        "if not os.path.exists(logdir):\n",
        "    os.mkdir(logdir)\n",
        "\n",
        "# Defina uma função para definir dinamicamente a taxa de aprendizado.\n",
        "def lr_Scheduler(epoch):\n",
        "    if epoch > 0.9 * Epochs:\n",
        "        lr = 0.0001\n",
        "    elif epoch > 0.5 * Epochs:\n",
        "        lr = 0.001\n",
        "    elif epoch > 0.25 * Epochs:\n",
        "        lr = 0.01\n",
        "    else:\n",
        "        lr = 0.1\n",
        "    print(lr)\n",
        "    return lr\n",
        "\n",
        "callbacks = [\n",
        "    # Early stopping:\n",
        "    tf.keras.callbacks.EarlyStopping(\n",
        "        # Métrica para determinar se o desempenho do modelo não tem mais melhorias\n",
        "        monitor='val_loss',\n",
        "        # Limiar para determinar se o desempenho do modelo não tem mais melhorias\n",
        "        min_delta=1e-2,\n",
        "        # Número de épocas em que o desempenho do modelo não tem mais melhorias\n",
        "        patience=2),\n",
        "\n",
        "        # Salva periodicamente os modelos.\n",
        "        tf.keras.callbacks.ModelCheckpoint(\n",
        "        # Path para o modelo\n",
        "        filepath='testmodel_{epoch}.h5',\n",
        "        # Determine se deseja salvar o modelo ideal.\n",
        "        save_best_only=True,\n",
        "        monitor='val_loss'),\n",
        "\n",
        "        # Altere dinamicamente a taxa de aprendizado.\n",
        "        tf.keras.callbacks.LearningRateScheduler(lr_Scheduler),\n",
        "        # Usa o TensorBoard.\n",
        "        tf.keras.callbacks.TensorBoard(log_dir=logdir)\n",
        "]\n",
        "\n",
        "model.fit(train_x, train_y, batch_size=16, epochs=Epochs,callbacks=callbacks, validation_data=(val_x, val_y))"
      ]
    },
    {
      "cell_type": "markdown",
      "id": "baae8228",
      "metadata": {
        "id": "baae8228"
      },
      "source": [
        "## 2.5 Avaliando Modelos\n",
        "\n",
        "Funções de avaliação e predição: tf.keras.Model.evaluate e tf.keras.Model.predict."
      ]
    },
    {
      "cell_type": "code",
      "execution_count": 12,
      "id": "47c5aee6",
      "metadata": {
        "id": "47c5aee6",
        "outputId": "914ac00e-ae68-4d25-e6d5-22d553b02bb9",
        "colab": {
          "base_uri": "https://localhost:8080/"
        }
      },
      "outputs": [
        {
          "output_type": "stream",
          "name": "stdout",
          "text": [
            "32/32 [==============================] - 0s 5ms/step - loss: 12.2270 - categorical_accuracy: 0.1060\n"
          ]
        },
        {
          "output_type": "execute_result",
          "data": {
            "text/plain": [
              "[12.227045059204102, 0.10599999874830246]"
            ]
          },
          "metadata": {},
          "execution_count": 12
        }
      ],
      "source": [
        "test_x = np.random.random((1000, 36))\n",
        "test_y = np.random.random((1000, 10))\n",
        "model.evaluate(test_x, test_y, batch_size=32)"
      ]
    },
    {
      "cell_type": "code",
      "execution_count": 13,
      "id": "4cdb6ca6",
      "metadata": {
        "id": "4cdb6ca6",
        "outputId": "bbe7707b-d70c-4cb5-80ab-150848dd1432",
        "colab": {
          "base_uri": "https://localhost:8080/"
        }
      },
      "outputs": [
        {
          "output_type": "stream",
          "name": "stdout",
          "text": [
            "32/32 [==============================] - 0s 2ms/step\n",
            "[[0.15654925 0.05387461 0.1908797  ... 0.04772589 0.14686708 0.05014162]\n",
            " [0.10008267 0.03582852 0.30852103 ... 0.06411928 0.11899265 0.05177189]\n",
            " [0.07744738 0.05756279 0.13618182 ... 0.08610663 0.1785003  0.07001915]\n",
            " ...\n",
            " [0.10140043 0.02870186 0.12776817 ... 0.03025236 0.25050935 0.03824607]\n",
            " [0.13460673 0.02356885 0.12958837 ... 0.06448851 0.14120877 0.07327157]\n",
            " [0.12144029 0.06540425 0.09520619 ... 0.02747755 0.19558308 0.03749895]]\n"
          ]
        }
      ],
      "source": [
        "pre_x  = np.random.random((10, 36))\n",
        "result = model.predict(test_x,)\n",
        "print(result)"
      ]
    },
    {
      "cell_type": "markdown",
      "id": "82ac2aba",
      "metadata": {
        "id": "82ac2aba"
      },
      "source": [
        "## 2.6 Salvando Modelos"
      ]
    },
    {
      "cell_type": "code",
      "execution_count": 14,
      "id": "5c38aaff",
      "metadata": {
        "id": "5c38aaff",
        "outputId": "247893f9-6bbb-4e1e-e7f4-352ad8562a61",
        "colab": {
          "base_uri": "https://localhost:8080/"
        }
      },
      "outputs": [
        {
          "output_type": "stream",
          "name": "stdout",
          "text": [
            "32/32 [==============================] - 0s 1ms/step\n"
          ]
        }
      ],
      "source": [
        "import numpy as np\n",
        "\n",
        "logdir='./model'\n",
        "if not os.path.exists(logdir):\n",
        "    os.mkdir(logdir)\n",
        "\n",
        "model.save(logdir+'/the_save_model.h5')\n",
        "\n",
        "new_model      = tf.keras.models.load_model(logdir+'/the_save_model.h5')\n",
        "new_prediction = new_model.predict(test_x)\n",
        "\n",
        "'''\n",
        "np.testing.assert_allclose: determina se a similaridade de dois objetos excede a tolerância\n",
        "especificada. Se sim, o sistema exibe uma exceção. atol: tolerância especificada\n",
        "'''\n",
        "np.testing.assert_allclose(result, new_prediction, atol=1e-6) # Prediction results are the same."
      ]
    },
    {
      "cell_type": "markdown",
      "id": "2b5a05d4",
      "metadata": {
        "id": "2b5a05d4"
      },
      "source": [
        "Depois que um modelo é salvo, você pode encontrar o arquivo de peso correspondente na pasta correspondente."
      ]
    },
    {
      "cell_type": "markdown",
      "id": "08197864",
      "metadata": {
        "id": "08197864"
      },
      "source": [
        "## 2.7 Salvando e Carregando pesos do Modelo\n",
        "Se o nome do peso tiver o sufixo .h5 ou .keras, salve o peso como um arquivo HDF5; caso contrário, salve o peso como um arquivo de ponto de verificação do TensorFlow por padrão."
      ]
    },
    {
      "cell_type": "code",
      "execution_count": 15,
      "id": "12db37aa",
      "metadata": {
        "id": "12db37aa"
      },
      "outputs": [],
      "source": [
        "model.save_weights('./model/model_weights')\n",
        "model.save_weights('./model/model_weights.h5')\n",
        "\n",
        "# Carregar os pesos do modelo treinado\n",
        "model.load_weights('./model/model_weights')\n",
        "model.load_weights('./model/model_weights.h5')"
      ]
    }
  ],
  "metadata": {
    "kernelspec": {
      "display_name": "Python 3 (ipykernel)",
      "language": "python",
      "name": "python3"
    },
    "language_info": {
      "codemirror_mode": {
        "name": "ipython",
        "version": 3
      },
      "file_extension": ".py",
      "mimetype": "text/x-python",
      "name": "python",
      "nbconvert_exporter": "python",
      "pygments_lexer": "ipython3",
      "version": "3.10.4"
    },
    "colab": {
      "provenance": [],
      "toc_visible": true,
      "include_colab_link": true
    }
  },
  "nbformat": 4,
  "nbformat_minor": 5
}