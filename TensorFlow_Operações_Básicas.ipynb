{
  "cells": [
    {
      "cell_type": "markdown",
      "metadata": {
        "id": "view-in-github",
        "colab_type": "text"
      },
      "source": [
        "<a href=\"https://colab.research.google.com/github/MarconeRafael/Modulos_Comuns_no_TensorFLow_2/blob/main/TensorFlow_Opera%C3%A7%C3%B5es_B%C3%A1sicas.ipynb\" target=\"_parent\"><img src=\"https://colab.research.google.com/assets/colab-badge.svg\" alt=\"Open In Colab\"/></a>"
      ]
    },
    {
      "cell_type": "markdown",
      "id": "0caadfcd",
      "metadata": {
        "id": "0caadfcd"
      },
      "source": [
        "# 1. TensorFlow"
      ]
    },
    {
      "cell_type": "code",
      "execution_count": 1,
      "id": "d9ff8cc5",
      "metadata": {
        "id": "d9ff8cc5",
        "colab": {
          "base_uri": "https://localhost:8080/"
        },
        "outputId": "5b8c9b19-03f0-49ab-a29a-710af71b1cec"
      },
      "outputs": [
        {
          "output_type": "stream",
          "name": "stdout",
          "text": [
            "2.13.0\n"
          ]
        }
      ],
      "source": [
        "import tensorflow as tf\n",
        "print(tf.__version__)"
      ]
    },
    {
      "cell_type": "markdown",
      "id": "d28d20a2",
      "metadata": {
        "id": "d28d20a2"
      },
      "source": [
        "# 1.1 Criação de Tensores\n",
        "\n",
        "Métodos comuns para a criação de tensores incluem:\n",
        "* **tf.constant()**: cria um tensor constante\n",
        "* **tf.zeros(), tf.zeros_like(), tf.ones(), tf.ones_like()**: cria tensores constantes com valores zeros e uns respectivamente\n",
        "* **tf.fill()**:cria um tensor com valores definidos pelo programador\n",
        "* **tf.random()**: cria um tensor com uma distribuição conhecida\n",
        "* **tf.convert_to_tensor()**: converte uma lista/ndarray para um tensor"
      ]
    },
    {
      "cell_type": "markdown",
      "id": "1e93c56c",
      "metadata": {
        "id": "1e93c56c"
      },
      "source": [
        "### 1.1.1 tf.constant()\n",
        "\n",
        "tf.constant(value, dtype=None, shape=None, name='Const', verify_shape=False):\n",
        "* **value**: valores\n",
        "* **dtype**: tipo dos dados\n",
        "* **shape**: formato do tensor\n",
        "* **name**: nome do tensor\n",
        "* **verify_shape**: Booleano que permite a verificação do formato dos valores. O valor padrão é falso. Se Verify_shape for definido como True, o sistema verificará se a forma do valor é consistente com a forma. Se forem inconsistentes, um erro será relatado."
      ]
    },
    {
      "cell_type": "code",
      "execution_count": 2,
      "id": "fb7ed7fb",
      "metadata": {
        "id": "fb7ed7fb",
        "colab": {
          "base_uri": "https://localhost:8080/"
        },
        "outputId": "fd06dc97-e038-417a-ef97-0320d8c59988"
      },
      "outputs": [
        {
          "output_type": "execute_result",
          "data": {
            "text/plain": [
              "<tf.Tensor: shape=(2, 2), dtype=float32, numpy=\n",
              "array([[1., 2.],\n",
              "       [3., 4.]], dtype=float32)>"
            ]
          },
          "metadata": {},
          "execution_count": 2
        }
      ],
      "source": [
        "const_a = tf.constant([1, 2, 3, 4], shape=[2, 2], dtype=tf.float32)\n",
        "const_a"
      ]
    },
    {
      "cell_type": "code",
      "execution_count": 3,
      "id": "5952e823",
      "metadata": {
        "id": "5952e823",
        "colab": {
          "base_uri": "https://localhost:8080/"
        },
        "outputId": "4335de0b-ba4e-47ce-bd17-193208c8a7a9"
      },
      "outputs": [
        {
          "output_type": "stream",
          "name": "stdout",
          "text": [
            "Conteúdo do tensor const_a: [array([1., 2.], dtype=float32), array([3., 4.], dtype=float32)]\n",
            "Tipo dos dados do tensor const_a: <dtype: 'float32'>\n",
            "Formato do tensor const_a: (2, 2)\n",
            "Dispositivo que gerou const_a: /job:localhost/replica:0/task:0/device:CPU:0\n"
          ]
        }
      ],
      "source": [
        "print(f'Conteúdo do tensor const_a: {list(const_a.numpy())}')\n",
        "print(f'Tipo dos dados do tensor const_a: {const_a.dtype}')\n",
        "print(f'Formato do tensor const_a: {const_a.shape}')\n",
        "print(f'Dispositivo que gerou const_a: {const_a.device}')"
      ]
    },
    {
      "cell_type": "markdown",
      "id": "46581342",
      "metadata": {
        "id": "46581342"
      },
      "source": [
        "### 1.1.2 tf.zeros(), tf.zeros_like(), tf.ones(),tf.ones_like()\n",
        "\n",
        "O uso de tf.ones() e tf.ones_like() é semelhante ao de tf.zeros() e tf.zeros_like(). Portanto, a seguir é apresentadocomo usar tf.ones() e tf.ones_like(). Criando um tensor com todos os elementos definidos como zero.\n",
        "\n",
        "tf.zeros(shape, dtype=tf.float32):\n",
        "* **shape**: formato do tensor\n",
        "* **dtype**: tipo dos dados"
      ]
    },
    {
      "cell_type": "code",
      "execution_count": 4,
      "id": "a851a5e2",
      "metadata": {
        "id": "a851a5e2",
        "colab": {
          "base_uri": "https://localhost:8080/"
        },
        "outputId": "4d9b7e72-6cb5-4e4c-b668-1d4799615f90"
      },
      "outputs": [
        {
          "output_type": "execute_result",
          "data": {
            "text/plain": [
              "<tf.Tensor: shape=(2, 3), dtype=int32, numpy=\n",
              "array([[0, 0, 0],\n",
              "       [0, 0, 0]], dtype=int32)>"
            ]
          },
          "metadata": {},
          "execution_count": 4
        }
      ],
      "source": [
        "zeros_1 = tf.zeros(shape=[2, 3], dtype=tf.int32)\n",
        "zeros_1\n"
      ]
    },
    {
      "cell_type": "markdown",
      "id": "c42b26e8",
      "metadata": {
        "id": "c42b26e8"
      },
      "source": [
        "tf.zeros_like(input_tensor, dtype=None):\n",
        "* **input_tensor**: tensor que será utilizado como base para criar do novo tensor no mesmo formato\n",
        "* **dtype**: tipo dos dados"
      ]
    },
    {
      "cell_type": "code",
      "execution_count": 5,
      "id": "23c6b21b",
      "metadata": {
        "id": "23c6b21b",
        "colab": {
          "base_uri": "https://localhost:8080/"
        },
        "outputId": "7f3992eb-200e-4bec-861f-ac02c5dad88a"
      },
      "outputs": [
        {
          "output_type": "execute_result",
          "data": {
            "text/plain": [
              "<tf.Tensor: shape=(2, 2), dtype=float32, numpy=\n",
              "array([[0., 0.],\n",
              "       [0., 0.]], dtype=float32)>"
            ]
          },
          "metadata": {},
          "execution_count": 5
        }
      ],
      "source": [
        "zeros_2 = tf.zeros_like(const_a)\n",
        "zeros_2"
      ]
    },
    {
      "cell_type": "markdown",
      "id": "89a06a2c",
      "metadata": {
        "id": "89a06a2c"
      },
      "source": [
        "### 1.1.3 tf.fill()\n",
        "\n",
        "Cria um tensor e o preenche com valores específicos\n",
        "tf.fill(dims, value, name=None):\n",
        "* **dims**: formato do tensor\n",
        "* **value**: valores para preecher o tensor\n"
      ]
    },
    {
      "cell_type": "code",
      "execution_count": 6,
      "id": "29238a21",
      "metadata": {
        "id": "29238a21",
        "colab": {
          "base_uri": "https://localhost:8080/"
        },
        "outputId": "cf6f0e19-addd-4bba-9166-659d504aa1fc"
      },
      "outputs": [
        {
          "output_type": "execute_result",
          "data": {
            "text/plain": [
              "<tf.Tensor: shape=(3, 3), dtype=int32, numpy=\n",
              "array([[8, 8, 8],\n",
              "       [8, 8, 8],\n",
              "       [8, 8, 8]], dtype=int32)>"
            ]
          },
          "metadata": {},
          "execution_count": 6
        }
      ],
      "source": [
        "fill_c = tf.fill([3,3], 8)\n",
        "fill_c"
      ]
    },
    {
      "cell_type": "markdown",
      "id": "d942f9da",
      "metadata": {
        "id": "d942f9da"
      },
      "source": [
        "### 1.1.4 tf.random()\n",
        "\n",
        "Este módulo é usado para gerar um tensor com uma distribuição específica. Os métodos comuns neste módulo incluem tf.random.uniform(), tf.random.normal() e tf.random.shuffle(). A seguir apresentaremos como usar tf.random.normal().\n",
        "\n",
        "Cria um tensor que esteja de acordo com a distribuição normal.\n",
        "\n",
        "tf.random.normal(shape, mean=0.0, stddev=1.0, dtype=tf.float32,seed=None):\n",
        "* **shape**: formato dos dados\n",
        "* **mean**: valor da média para a distribuição gaussiana\n",
        "* **stddev**: desvio padrão para a distribuição gaussiana\n",
        "* **dtype**: tipo de dados\n",
        "* **seed**: semente para geração dos dados\n"
      ]
    },
    {
      "cell_type": "code",
      "execution_count": 7,
      "id": "1836663c",
      "metadata": {
        "id": "1836663c",
        "colab": {
          "base_uri": "https://localhost:8080/"
        },
        "outputId": "0473963b-572e-45e6-9215-e69265a6de49"
      },
      "outputs": [
        {
          "output_type": "execute_result",
          "data": {
            "text/plain": [
              "<tf.Tensor: shape=(5, 5), dtype=float32, numpy=\n",
              "array([[-0.8113182 ,  1.4845988 ,  0.06532937, -2.4427042 ,  0.0992484 ],\n",
              "       [ 0.5912243 ,  0.59282297, -2.1229296 , -0.72289723, -0.05627038],\n",
              "       [ 0.6435448 , -0.26432407,  1.8566332 ,  0.5678417 , -0.3828359 ],\n",
              "       [-1.4853433 ,  1.2617711 , -0.02530608, -0.2646297 ,  1.5328138 ],\n",
              "       [-1.7429771 , -0.43789294, -0.56601   ,  0.32066926,  1.132831  ]],\n",
              "      dtype=float32)>"
            ]
          },
          "metadata": {},
          "execution_count": 7
        }
      ],
      "source": [
        "random_e = tf.random.normal([5,5],mean=0,stddev=1.0, seed = 1)\n",
        "random_e"
      ]
    },
    {
      "cell_type": "markdown",
      "id": "f17f957b",
      "metadata": {
        "id": "f17f957b"
      },
      "source": [
        "### 1.1.5 tf.convert_to_tensor()\n",
        "\n",
        "tf.convert_to_tensor(value, dtype=None):\n",
        "* **value**: value to be converted\n",
        "* **dtype**: tensor data type"
      ]
    },
    {
      "cell_type": "code",
      "execution_count": 8,
      "id": "8ccc780a",
      "metadata": {
        "id": "8ccc780a",
        "colab": {
          "base_uri": "https://localhost:8080/"
        },
        "outputId": "73c2e665-9b13-4296-b37d-c87d3a3ef6f5"
      },
      "outputs": [
        {
          "output_type": "execute_result",
          "data": {
            "text/plain": [
              "list"
            ]
          },
          "metadata": {},
          "execution_count": 8
        }
      ],
      "source": [
        "lista = [1, 2, 3, 4, 5]\n",
        "type(lista)"
      ]
    },
    {
      "cell_type": "code",
      "execution_count": 9,
      "id": "7ad9e0c9",
      "metadata": {
        "id": "7ad9e0c9",
        "colab": {
          "base_uri": "https://localhost:8080/"
        },
        "outputId": "33eb10b2-a411-4f8b-d82c-76d5e7a8ee2e"
      },
      "outputs": [
        {
          "output_type": "execute_result",
          "data": {
            "text/plain": [
              "<tf.Tensor: shape=(5,), dtype=float32, numpy=array([1., 2., 3., 4., 5.], dtype=float32)>"
            ]
          },
          "metadata": {},
          "execution_count": 9
        }
      ],
      "source": [
        "tensor_f = tf.convert_to_tensor(lista, dtype=tf.float32)\n",
        "tensor_f"
      ]
    },
    {
      "cell_type": "markdown",
      "id": "0a47b4ee",
      "metadata": {
        "id": "0a47b4ee"
      },
      "source": [
        "## 1.2 Criando Tensores Mútaveis\n",
        "\n",
        "No TensorFlow, as variáveis são criadas e rastreadas por meio da classe tf.Variable. Um tf.Variable representa um tensor cujo valor pode ser alterado executando operações nele. Operações específicas permitem que você leia e modifique os valores desse tensor."
      ]
    },
    {
      "cell_type": "code",
      "execution_count": 10,
      "id": "810f14eb",
      "metadata": {
        "id": "810f14eb",
        "colab": {
          "base_uri": "https://localhost:8080/"
        },
        "outputId": "3c09dfcf-a044-4239-d534-46861b801fc7"
      },
      "outputs": [
        {
          "output_type": "execute_result",
          "data": {
            "text/plain": [
              "<tf.Variable 'Variable:0' shape=(2, 3) dtype=float32, numpy=\n",
              "array([[1., 1., 1.],\n",
              "       [1., 1., 1.]], dtype=float32)>"
            ]
          },
          "metadata": {},
          "execution_count": 10
        }
      ],
      "source": [
        "var_1 = tf.Variable(tf.ones([2,3]))\n",
        "var_1"
      ]
    },
    {
      "cell_type": "code",
      "execution_count": 11,
      "id": "96d352f2",
      "metadata": {
        "id": "96d352f2",
        "colab": {
          "base_uri": "https://localhost:8080/"
        },
        "outputId": "e19e4a94-6732-4124-bd28-1a0af9c8912e"
      },
      "outputs": [
        {
          "output_type": "stream",
          "name": "stdout",
          "text": [
            "Valor de var_1:  tf.Tensor(\n",
            "[[1. 1. 1.]\n",
            " [1. 1. 1.]], shape=(2, 3), dtype=float32)\n",
            "Novo valor para var_1:  tf.Tensor(\n",
            "[[1. 2. 3.]\n",
            " [4. 5. 6.]], shape=(2, 3), dtype=float32)\n"
          ]
        }
      ],
      "source": [
        "print(\"Valor de var_1: \",var_1.read_value())\n",
        "var_value_1 = [[1,2,3], [4,5,6]]\n",
        "var_1.assign(var_value_1)\n",
        "print(\"Novo valor para var_1: \",var_1.read_value())"
      ]
    },
    {
      "cell_type": "code",
      "execution_count": 12,
      "id": "618e2e95",
      "metadata": {
        "id": "618e2e95",
        "colab": {
          "base_uri": "https://localhost:8080/"
        },
        "outputId": "3b0f29a4-0428-4309-fea2-fccd494d8cc7"
      },
      "outputs": [
        {
          "output_type": "execute_result",
          "data": {
            "text/plain": [
              "<tf.Variable 'Variable:0' shape=(2, 3) dtype=float32, numpy=\n",
              "array([[2., 3., 4.],\n",
              "       [5., 6., 7.]], dtype=float32)>"
            ]
          },
          "metadata": {},
          "execution_count": 12
        }
      ],
      "source": [
        "var_1.assign_add(tf.ones([2,3]))\n",
        "var_1"
      ]
    },
    {
      "cell_type": "markdown",
      "id": "ebefe716",
      "metadata": {
        "id": "ebefe716"
      },
      "source": [
        "## 1.3 Indexando e Fatiando Tensores"
      ]
    },
    {
      "cell_type": "markdown",
      "id": "0cf18755",
      "metadata": {
        "id": "0cf18755"
      },
      "source": [
        "### 1.3.1 Slicing\n",
        "\n",
        "* **[start: end]**: extrai os dados entre o indices de **start** e **end** do tensor\n",
        "* **[start :end :step]** ou **[::step]**: extrai os dados entre o indices de *start* e *end* do tensor com intervalos de tamanho **step**\n"
      ]
    },
    {
      "cell_type": "code",
      "execution_count": 13,
      "id": "05a63ba2",
      "metadata": {
        "id": "05a63ba2",
        "colab": {
          "base_uri": "https://localhost:8080/"
        },
        "outputId": "c29e0ee5-6488-4a07-df52-4b2e7650a423"
      },
      "outputs": [
        {
          "output_type": "execute_result",
          "data": {
            "text/plain": [
              "<tf.Tensor: shape=(4, 100, 100, 3), dtype=float32, numpy=\n",
              "array([[[[-7.06635833e-01, -1.92604470e+00,  4.57503915e-01],\n",
              "         [-4.33816165e-01, -6.94335625e-02, -4.13806707e-01],\n",
              "         [ 4.26806986e-01, -6.96643144e-02, -1.41220614e-01],\n",
              "         ...,\n",
              "         [ 8.26046392e-02, -1.14843643e+00, -1.26957476e+00],\n",
              "         [ 4.59770918e-01, -1.34228647e+00,  7.52078891e-02],\n",
              "         [ 2.35636681e-01, -5.20919621e-01, -3.55637431e+00]],\n",
              "\n",
              "        [[ 5.51012993e-01,  5.72373979e-02,  1.73425630e-01],\n",
              "         [ 1.19851637e+00, -8.55669200e-01,  9.26242054e-01],\n",
              "         [-1.21824652e-01,  1.33737639e-01, -1.76894572e-02],\n",
              "         ...,\n",
              "         [-5.04699588e-01,  7.13584960e-01,  5.15836418e-01],\n",
              "         [-7.68173456e-01,  4.63459551e-01,  1.32277203e+00],\n",
              "         [ 1.44649434e+00, -2.75917441e-01,  8.34762990e-01]],\n",
              "\n",
              "        [[-7.94877291e-01,  2.62309492e-01, -9.50751245e-01],\n",
              "         [ 8.19095731e-01,  1.84470010e+00,  1.35963893e+00],\n",
              "         [-1.14093924e+00,  2.11972624e-01,  7.79183745e-01],\n",
              "         ...,\n",
              "         [-3.97345811e-01, -2.52076443e-02, -8.93757045e-01],\n",
              "         [ 1.02602291e+00,  7.64970064e-01, -2.04772145e-01],\n",
              "         [ 6.61954761e-01, -1.65379867e-01,  1.64867550e-01]],\n",
              "\n",
              "        ...,\n",
              "\n",
              "        [[ 3.08469921e-01, -1.12280583e+00, -2.89168298e-01],\n",
              "         [-1.35401607e-01,  1.04854989e+00, -1.56864750e+00],\n",
              "         [-5.51764905e-01,  1.31542218e+00, -1.83468533e+00],\n",
              "         ...,\n",
              "         [-1.69526249e-01,  1.14093184e+00,  6.19807132e-02],\n",
              "         [-2.54605800e-01,  1.94085896e+00,  4.60188121e-01],\n",
              "         [-1.95994449e+00, -5.33662319e-01,  7.41560519e-01]],\n",
              "\n",
              "        [[ 6.09553941e-02,  1.09461260e+00,  7.38009214e-01],\n",
              "         [-6.01450861e-01, -1.48134184e+00, -1.58563650e+00],\n",
              "         [-2.02370167e+00,  6.87617838e-01,  6.36802077e-01],\n",
              "         ...,\n",
              "         [-1.05929410e+00, -1.56896317e+00,  1.55359530e+00],\n",
              "         [ 2.31037331e+00, -1.52279353e+00, -1.96486723e+00],\n",
              "         [-9.97019708e-01, -1.77599978e+00,  4.87296343e-01]],\n",
              "\n",
              "        [[ 9.04915810e-01,  9.20035541e-01, -4.83522058e-01],\n",
              "         [-1.39230120e+00, -3.33513826e-01,  9.04208124e-01],\n",
              "         [-7.75224268e-01, -1.34630695e-01,  5.28444946e-01],\n",
              "         ...,\n",
              "         [ 9.08075571e-01, -3.15146536e-01, -1.20415413e+00],\n",
              "         [-1.24837172e+00, -6.78328633e-01,  9.12958682e-01],\n",
              "         [-5.01744151e-01, -1.19337833e+00,  1.64539784e-01]]],\n",
              "\n",
              "\n",
              "       [[[ 4.27208483e-01,  2.09572625e+00, -9.08872068e-01],\n",
              "         [ 1.98610628e+00,  1.51658428e+00,  2.73935467e-01],\n",
              "         [-8.53486776e-01, -6.37285113e-02,  5.25006592e-01],\n",
              "         ...,\n",
              "         [-1.01232016e+00,  6.96401656e-01,  6.58786178e-01],\n",
              "         [ 2.92813331e-02, -4.82600957e-01,  7.63392746e-01],\n",
              "         [-4.08770800e-01,  9.50810552e-01,  6.41125262e-01]],\n",
              "\n",
              "        [[ 1.62350440e+00,  1.55409062e+00,  7.94435740e-01],\n",
              "         [ 1.42506087e+00,  6.27035677e-01, -5.62103033e-01],\n",
              "         [ 2.78907001e-01, -5.81580818e-01, -2.86640525e+00],\n",
              "         ...,\n",
              "         [ 1.00010717e+00,  4.85580355e-01, -2.41608962e-01],\n",
              "         [ 8.08646619e-01, -6.81860745e-01, -4.93354589e-01],\n",
              "         [-2.91316599e-01,  9.65716783e-03,  8.94105881e-02]],\n",
              "\n",
              "        [[ 1.08113158e+00,  9.21549737e-01, -1.33751005e-01],\n",
              "         [ 3.29218283e-02,  1.50772023e+00,  1.03541076e-01],\n",
              "         [-5.79925954e-01, -1.30053699e-01,  1.61066115e-01],\n",
              "         ...,\n",
              "         [-3.67884755e-01, -1.51791990e+00, -9.89158511e-01],\n",
              "         [ 3.20830059e+00,  2.09760332e+00,  8.15958977e-02],\n",
              "         [-5.96323013e-02,  9.66483429e-02, -1.36547959e+00]],\n",
              "\n",
              "        ...,\n",
              "\n",
              "        [[-4.53810068e-03, -4.36304063e-01, -3.23097318e-01],\n",
              "         [-1.24971986e+00, -3.53975475e-01,  2.71026850e-01],\n",
              "         [ 6.05160415e-01, -3.47492814e-01, -8.15884352e-01],\n",
              "         ...,\n",
              "         [-6.62309304e-02, -3.62318486e-01,  2.86600679e-01],\n",
              "         [ 8.81103933e-01, -5.63178957e-01,  1.82453454e+00],\n",
              "         [-9.94860083e-02, -6.68563601e-03,  8.51139307e-01]],\n",
              "\n",
              "        [[ 5.50699115e-01,  7.27070570e-01, -5.23978710e-01],\n",
              "         [-3.46736342e-01,  3.61012876e-01,  8.61553848e-01],\n",
              "         [ 3.71474952e-01,  4.11909670e-01,  4.33547527e-01],\n",
              "         ...,\n",
              "         [-1.72824550e+00,  1.29552269e+00,  9.23570693e-01],\n",
              "         [-3.13340425e-01,  7.98724145e-02, -2.52061820e+00],\n",
              "         [-2.09283587e-02,  4.54791725e-01, -1.36781800e+00]],\n",
              "\n",
              "        [[-4.19568390e-01,  4.72873718e-01, -1.10174203e+00],\n",
              "         [ 1.75396895e+00,  8.62648666e-01, -5.11434793e-01],\n",
              "         [ 1.28158897e-01, -6.27228677e-01, -3.20526421e-01],\n",
              "         ...,\n",
              "         [-1.62332416e+00, -2.81719714e-01, -6.75323784e-01],\n",
              "         [-5.47290444e-01,  2.07538784e-01, -5.05527914e-01],\n",
              "         [ 6.52229667e-01, -3.89867246e-01, -3.34720552e-01]]],\n",
              "\n",
              "\n",
              "       [[[-1.82160473e+00,  3.89082342e-01, -3.76659513e-01],\n",
              "         [ 1.25095427e+00, -1.19979739e+00, -1.12401736e+00],\n",
              "         [ 1.56515253e+00, -7.61059701e-01,  2.56562889e-01],\n",
              "         ...,\n",
              "         [ 1.42447531e+00, -6.67155266e-01,  9.48443592e-01],\n",
              "         [ 4.70535278e-01,  5.56642532e-01, -4.38457310e-01],\n",
              "         [-9.96790051e-01, -1.64759123e+00,  1.44250429e+00]],\n",
              "\n",
              "        [[ 1.50067315e-01, -1.94129384e+00, -5.37724733e-01],\n",
              "         [ 4.46562558e-01, -1.00523300e-01, -5.73549569e-01],\n",
              "         [-1.13872099e+00, -1.41093743e+00, -1.00935256e+00],\n",
              "         ...,\n",
              "         [-8.85427222e-02, -1.29888940e+00, -1.95868158e+00],\n",
              "         [-4.26927298e-01, -2.09242439e+00, -1.05373132e+00],\n",
              "         [-8.18706274e-01,  1.49749386e+00, -5.07860839e-01]],\n",
              "\n",
              "        [[ 3.99481297e-01, -2.37889671e+00, -8.03474486e-01],\n",
              "         [-3.57952565e-01, -3.57899159e-01,  1.44708526e+00],\n",
              "         [-5.15027702e-01,  2.32654318e-01,  4.50483933e-02],\n",
              "         ...,\n",
              "         [-3.83777350e-01,  1.11071599e+00, -5.71053624e-01],\n",
              "         [ 6.21825635e-01,  1.21578205e+00,  6.20737433e-01],\n",
              "         [ 1.78621233e+00, -2.74314195e-01,  9.60453391e-01]],\n",
              "\n",
              "        ...,\n",
              "\n",
              "        [[-7.14573324e-01, -6.22147799e-01, -3.96075808e-02],\n",
              "         [-5.75933695e-01, -2.13169050e+00,  4.89202917e-01],\n",
              "         [-3.06008041e-01, -5.03088295e-01,  3.82850558e-01],\n",
              "         ...,\n",
              "         [-1.34395706e-02, -2.63589740e-01,  7.51178026e-01],\n",
              "         [-8.27735603e-01,  5.58035672e-01, -1.40675855e+00],\n",
              "         [ 4.68197584e-01, -2.26245904e+00, -5.89254737e-01]],\n",
              "\n",
              "        [[ 1.68601528e-01,  2.03884506e+00,  8.02303374e-01],\n",
              "         [ 1.19160044e+00,  6.33063734e-01, -3.77108604e-01],\n",
              "         [ 8.56846049e-02,  1.07293892e+00, -8.37580085e-01],\n",
              "         ...,\n",
              "         [ 4.14112180e-01,  2.67196625e-01, -1.50488317e-01],\n",
              "         [-1.75575805e+00,  1.56897151e+00,  8.45329762e-01],\n",
              "         [-1.02453887e+00, -8.47157478e-01,  1.11004606e-01]],\n",
              "\n",
              "        [[-1.39373589e+00, -1.67180464e-01,  2.26753429e-01],\n",
              "         [-3.37295793e-03, -1.36698568e+00, -7.30342984e-01],\n",
              "         [-6.46354377e-01, -6.02719367e-01, -1.34527540e+00],\n",
              "         ...,\n",
              "         [ 7.38595605e-01,  1.08282194e-02, -1.93478215e+00],\n",
              "         [-1.25411940e+00, -2.60824800e-01,  5.82054853e-01],\n",
              "         [ 2.18610716e+00,  1.28517160e-02,  7.64654934e-01]]],\n",
              "\n",
              "\n",
              "       [[[-1.72503471e+00,  2.67247051e-01,  3.73544842e-01],\n",
              "         [ 7.56176785e-02,  6.91099912e-02, -6.31938100e-01],\n",
              "         [-1.28085756e+00,  3.91588993e-02,  9.44706798e-01],\n",
              "         ...,\n",
              "         [-2.18655527e-01,  8.89144838e-01,  7.52989948e-01],\n",
              "         [-1.27069998e+00,  1.83084154e+00, -8.29992175e-01],\n",
              "         [-9.30928767e-01,  1.14382660e+00, -6.19347999e-03]],\n",
              "\n",
              "        [[ 1.29621565e+00,  2.97943234e-01, -9.82450545e-02],\n",
              "         [ 2.86098927e-01,  2.76182443e-02,  8.02539945e-01],\n",
              "         [-9.80423748e-01, -5.61010875e-02,  1.69656307e-01],\n",
              "         ...,\n",
              "         [ 2.62671769e-01,  4.63437527e-01, -1.22989118e+00],\n",
              "         [ 1.55337226e+00, -1.01754868e+00, -3.25147569e-01],\n",
              "         [-6.74261451e-01, -1.17440373e-01,  2.95564264e-01]],\n",
              "\n",
              "        [[-6.91073835e-01, -6.32603645e-01,  1.62099111e+00],\n",
              "         [ 4.77438897e-01,  9.92528081e-01,  1.23932517e+00],\n",
              "         [ 6.63684487e-01, -1.37220120e+00,  2.47126147e-01],\n",
              "         ...,\n",
              "         [ 8.70039612e-02, -8.75324532e-02, -1.92706764e-01],\n",
              "         [ 5.57482839e-01,  1.40752792e+00,  5.72426140e-01],\n",
              "         [ 1.05579758e+00, -4.94256586e-01, -1.20105498e-01]],\n",
              "\n",
              "        ...,\n",
              "\n",
              "        [[ 4.83042747e-01,  1.53511465e-01,  1.80306897e-01],\n",
              "         [-9.82334912e-01, -3.91056776e-01, -7.63269246e-01],\n",
              "         [ 8.17226112e-01, -7.56321788e-01,  1.56819999e+00],\n",
              "         ...,\n",
              "         [ 6.76950455e-01, -1.85150981e+00, -2.72860527e+00],\n",
              "         [ 1.12694049e+00, -1.09967038e-01, -1.23797059e+00],\n",
              "         [ 8.75368178e-01,  1.39827931e+00,  5.69275856e-01]],\n",
              "\n",
              "        [[ 8.48746121e-01,  1.60854292e+00,  3.52243721e-01],\n",
              "         [ 9.01452780e-01,  1.90471184e+00,  8.20372224e-01],\n",
              "         [-4.06189144e-01, -2.65903711e+00,  1.64029944e+00],\n",
              "         ...,\n",
              "         [ 4.43704287e-03, -2.26527825e-02, -4.77088928e-01],\n",
              "         [ 2.16388440e+00,  3.24863911e-01, -1.05389941e+00],\n",
              "         [ 9.50655758e-01, -2.66876310e-01, -1.96104670e+00]],\n",
              "\n",
              "        [[ 9.73837495e-01,  5.30940831e-01,  3.51914763e-01],\n",
              "         [ 2.89288342e-01, -3.81563783e-01, -4.36430603e-01],\n",
              "         [-6.33377850e-01, -7.00154722e-01, -3.47313017e-01],\n",
              "         ...,\n",
              "         [ 8.18551660e-01, -3.52441698e-01, -7.72311270e-01],\n",
              "         [ 1.19760203e+00, -4.82643157e-01,  6.42512918e-01],\n",
              "         [ 1.28610837e+00,  8.73236895e-01,  6.76015541e-02]]]],\n",
              "      dtype=float32)>"
            ]
          },
          "metadata": {},
          "execution_count": 13
        }
      ],
      "source": [
        "tensor_h = tf.random.normal([4,100,100,3])\n",
        "tensor_h"
      ]
    },
    {
      "cell_type": "code",
      "execution_count": 14,
      "id": "774ef626",
      "metadata": {
        "scrolled": true,
        "id": "774ef626",
        "colab": {
          "base_uri": "https://localhost:8080/"
        },
        "outputId": "50973d93-f9ff-44df-8f5c-973724519b1f"
      },
      "outputs": [
        {
          "output_type": "execute_result",
          "data": {
            "text/plain": [
              "<tf.Tensor: shape=(100, 100, 3), dtype=float32, numpy=\n",
              "array([[[-0.70663583, -1.9260447 ,  0.4575039 ],\n",
              "        [-0.43381616, -0.06943356, -0.4138067 ],\n",
              "        [ 0.426807  , -0.06966431, -0.14122061],\n",
              "        ...,\n",
              "        [ 0.08260464, -1.1484364 , -1.2695748 ],\n",
              "        [ 0.45977092, -1.3422865 ,  0.07520789],\n",
              "        [ 0.23563668, -0.5209196 , -3.5563743 ]],\n",
              "\n",
              "       [[ 0.551013  ,  0.0572374 ,  0.17342563],\n",
              "        [ 1.1985164 , -0.8556692 ,  0.92624205],\n",
              "        [-0.12182465,  0.13373764, -0.01768946],\n",
              "        ...,\n",
              "        [-0.5046996 ,  0.71358496,  0.5158364 ],\n",
              "        [-0.76817346,  0.46345955,  1.322772  ],\n",
              "        [ 1.4464943 , -0.27591744,  0.834763  ]],\n",
              "\n",
              "       [[-0.7948773 ,  0.2623095 , -0.95075125],\n",
              "        [ 0.81909573,  1.8447001 ,  1.3596389 ],\n",
              "        [-1.1409392 ,  0.21197262,  0.77918375],\n",
              "        ...,\n",
              "        [-0.3973458 , -0.02520764, -0.89375705],\n",
              "        [ 1.0260229 ,  0.76497006, -0.20477214],\n",
              "        [ 0.66195476, -0.16537987,  0.16486755]],\n",
              "\n",
              "       ...,\n",
              "\n",
              "       [[ 0.30846992, -1.1228058 , -0.2891683 ],\n",
              "        [-0.1354016 ,  1.0485499 , -1.5686475 ],\n",
              "        [-0.5517649 ,  1.3154222 , -1.8346853 ],\n",
              "        ...,\n",
              "        [-0.16952625,  1.1409318 ,  0.06198071],\n",
              "        [-0.2546058 ,  1.940859  ,  0.46018812],\n",
              "        [-1.9599445 , -0.5336623 ,  0.7415605 ]],\n",
              "\n",
              "       [[ 0.06095539,  1.0946126 ,  0.7380092 ],\n",
              "        [-0.60145086, -1.4813418 , -1.5856365 ],\n",
              "        [-2.0237017 ,  0.68761784,  0.6368021 ],\n",
              "        ...,\n",
              "        [-1.0592941 , -1.5689632 ,  1.5535953 ],\n",
              "        [ 2.3103733 , -1.5227935 , -1.9648672 ],\n",
              "        [-0.9970197 , -1.7759998 ,  0.48729634]],\n",
              "\n",
              "       [[ 0.9049158 ,  0.92003554, -0.48352206],\n",
              "        [-1.3923012 , -0.33351383,  0.9042081 ],\n",
              "        [-0.77522427, -0.1346307 ,  0.52844495],\n",
              "        ...,\n",
              "        [ 0.9080756 , -0.31514654, -1.2041541 ],\n",
              "        [-1.2483717 , -0.67832863,  0.9129587 ],\n",
              "        [-0.50174415, -1.1933783 ,  0.16453978]]], dtype=float32)>"
            ]
          },
          "metadata": {},
          "execution_count": 14
        }
      ],
      "source": [
        "tensor_h[0,:,:,:]"
      ]
    },
    {
      "cell_type": "code",
      "execution_count": 15,
      "id": "1d7b24b5",
      "metadata": {
        "scrolled": true,
        "id": "1d7b24b5",
        "colab": {
          "base_uri": "https://localhost:8080/"
        },
        "outputId": "94c4182f-54ef-4e5c-aa6d-aadcf042807a"
      },
      "outputs": [
        {
          "output_type": "execute_result",
          "data": {
            "text/plain": [
              "<tf.Tensor: shape=(2, 100, 100, 3), dtype=float32, numpy=\n",
              "array([[[[-7.06635833e-01, -1.92604470e+00,  4.57503915e-01],\n",
              "         [-4.33816165e-01, -6.94335625e-02, -4.13806707e-01],\n",
              "         [ 4.26806986e-01, -6.96643144e-02, -1.41220614e-01],\n",
              "         ...,\n",
              "         [ 8.26046392e-02, -1.14843643e+00, -1.26957476e+00],\n",
              "         [ 4.59770918e-01, -1.34228647e+00,  7.52078891e-02],\n",
              "         [ 2.35636681e-01, -5.20919621e-01, -3.55637431e+00]],\n",
              "\n",
              "        [[ 5.51012993e-01,  5.72373979e-02,  1.73425630e-01],\n",
              "         [ 1.19851637e+00, -8.55669200e-01,  9.26242054e-01],\n",
              "         [-1.21824652e-01,  1.33737639e-01, -1.76894572e-02],\n",
              "         ...,\n",
              "         [-5.04699588e-01,  7.13584960e-01,  5.15836418e-01],\n",
              "         [-7.68173456e-01,  4.63459551e-01,  1.32277203e+00],\n",
              "         [ 1.44649434e+00, -2.75917441e-01,  8.34762990e-01]],\n",
              "\n",
              "        [[-7.94877291e-01,  2.62309492e-01, -9.50751245e-01],\n",
              "         [ 8.19095731e-01,  1.84470010e+00,  1.35963893e+00],\n",
              "         [-1.14093924e+00,  2.11972624e-01,  7.79183745e-01],\n",
              "         ...,\n",
              "         [-3.97345811e-01, -2.52076443e-02, -8.93757045e-01],\n",
              "         [ 1.02602291e+00,  7.64970064e-01, -2.04772145e-01],\n",
              "         [ 6.61954761e-01, -1.65379867e-01,  1.64867550e-01]],\n",
              "\n",
              "        ...,\n",
              "\n",
              "        [[ 3.08469921e-01, -1.12280583e+00, -2.89168298e-01],\n",
              "         [-1.35401607e-01,  1.04854989e+00, -1.56864750e+00],\n",
              "         [-5.51764905e-01,  1.31542218e+00, -1.83468533e+00],\n",
              "         ...,\n",
              "         [-1.69526249e-01,  1.14093184e+00,  6.19807132e-02],\n",
              "         [-2.54605800e-01,  1.94085896e+00,  4.60188121e-01],\n",
              "         [-1.95994449e+00, -5.33662319e-01,  7.41560519e-01]],\n",
              "\n",
              "        [[ 6.09553941e-02,  1.09461260e+00,  7.38009214e-01],\n",
              "         [-6.01450861e-01, -1.48134184e+00, -1.58563650e+00],\n",
              "         [-2.02370167e+00,  6.87617838e-01,  6.36802077e-01],\n",
              "         ...,\n",
              "         [-1.05929410e+00, -1.56896317e+00,  1.55359530e+00],\n",
              "         [ 2.31037331e+00, -1.52279353e+00, -1.96486723e+00],\n",
              "         [-9.97019708e-01, -1.77599978e+00,  4.87296343e-01]],\n",
              "\n",
              "        [[ 9.04915810e-01,  9.20035541e-01, -4.83522058e-01],\n",
              "         [-1.39230120e+00, -3.33513826e-01,  9.04208124e-01],\n",
              "         [-7.75224268e-01, -1.34630695e-01,  5.28444946e-01],\n",
              "         ...,\n",
              "         [ 9.08075571e-01, -3.15146536e-01, -1.20415413e+00],\n",
              "         [-1.24837172e+00, -6.78328633e-01,  9.12958682e-01],\n",
              "         [-5.01744151e-01, -1.19337833e+00,  1.64539784e-01]]],\n",
              "\n",
              "\n",
              "       [[[-1.82160473e+00,  3.89082342e-01, -3.76659513e-01],\n",
              "         [ 1.25095427e+00, -1.19979739e+00, -1.12401736e+00],\n",
              "         [ 1.56515253e+00, -7.61059701e-01,  2.56562889e-01],\n",
              "         ...,\n",
              "         [ 1.42447531e+00, -6.67155266e-01,  9.48443592e-01],\n",
              "         [ 4.70535278e-01,  5.56642532e-01, -4.38457310e-01],\n",
              "         [-9.96790051e-01, -1.64759123e+00,  1.44250429e+00]],\n",
              "\n",
              "        [[ 1.50067315e-01, -1.94129384e+00, -5.37724733e-01],\n",
              "         [ 4.46562558e-01, -1.00523300e-01, -5.73549569e-01],\n",
              "         [-1.13872099e+00, -1.41093743e+00, -1.00935256e+00],\n",
              "         ...,\n",
              "         [-8.85427222e-02, -1.29888940e+00, -1.95868158e+00],\n",
              "         [-4.26927298e-01, -2.09242439e+00, -1.05373132e+00],\n",
              "         [-8.18706274e-01,  1.49749386e+00, -5.07860839e-01]],\n",
              "\n",
              "        [[ 3.99481297e-01, -2.37889671e+00, -8.03474486e-01],\n",
              "         [-3.57952565e-01, -3.57899159e-01,  1.44708526e+00],\n",
              "         [-5.15027702e-01,  2.32654318e-01,  4.50483933e-02],\n",
              "         ...,\n",
              "         [-3.83777350e-01,  1.11071599e+00, -5.71053624e-01],\n",
              "         [ 6.21825635e-01,  1.21578205e+00,  6.20737433e-01],\n",
              "         [ 1.78621233e+00, -2.74314195e-01,  9.60453391e-01]],\n",
              "\n",
              "        ...,\n",
              "\n",
              "        [[-7.14573324e-01, -6.22147799e-01, -3.96075808e-02],\n",
              "         [-5.75933695e-01, -2.13169050e+00,  4.89202917e-01],\n",
              "         [-3.06008041e-01, -5.03088295e-01,  3.82850558e-01],\n",
              "         ...,\n",
              "         [-1.34395706e-02, -2.63589740e-01,  7.51178026e-01],\n",
              "         [-8.27735603e-01,  5.58035672e-01, -1.40675855e+00],\n",
              "         [ 4.68197584e-01, -2.26245904e+00, -5.89254737e-01]],\n",
              "\n",
              "        [[ 1.68601528e-01,  2.03884506e+00,  8.02303374e-01],\n",
              "         [ 1.19160044e+00,  6.33063734e-01, -3.77108604e-01],\n",
              "         [ 8.56846049e-02,  1.07293892e+00, -8.37580085e-01],\n",
              "         ...,\n",
              "         [ 4.14112180e-01,  2.67196625e-01, -1.50488317e-01],\n",
              "         [-1.75575805e+00,  1.56897151e+00,  8.45329762e-01],\n",
              "         [-1.02453887e+00, -8.47157478e-01,  1.11004606e-01]],\n",
              "\n",
              "        [[-1.39373589e+00, -1.67180464e-01,  2.26753429e-01],\n",
              "         [-3.37295793e-03, -1.36698568e+00, -7.30342984e-01],\n",
              "         [-6.46354377e-01, -6.02719367e-01, -1.34527540e+00],\n",
              "         ...,\n",
              "         [ 7.38595605e-01,  1.08282194e-02, -1.93478215e+00],\n",
              "         [-1.25411940e+00, -2.60824800e-01,  5.82054853e-01],\n",
              "         [ 2.18610716e+00,  1.28517160e-02,  7.64654934e-01]]]],\n",
              "      dtype=float32)>"
            ]
          },
          "metadata": {},
          "execution_count": 15
        }
      ],
      "source": [
        "# Extract one slice every two images.\n",
        "tensor_h[::2,...]"
      ]
    },
    {
      "cell_type": "markdown",
      "id": "37546c69",
      "metadata": {
        "id": "37546c69"
      },
      "source": [
        "### 1.3.2 Indexando\n",
        "\n",
        "O formato básico de um índice é a[d1][d2][d3]."
      ]
    },
    {
      "cell_type": "code",
      "execution_count": 16,
      "id": "88e0306a",
      "metadata": {
        "id": "88e0306a",
        "colab": {
          "base_uri": "https://localhost:8080/"
        },
        "outputId": "bbb3a99d-cf7b-4da9-8ab9-f196039e87fc"
      },
      "outputs": [
        {
          "output_type": "execute_result",
          "data": {
            "text/plain": [
              "<tf.Tensor: shape=(), dtype=float32, numpy=-0.4914031>"
            ]
          },
          "metadata": {},
          "execution_count": 16
        }
      ],
      "source": [
        "tensor_h[0][19][39][1]"
      ]
    },
    {
      "cell_type": "markdown",
      "id": "9595bff3",
      "metadata": {
        "id": "9595bff3"
      },
      "source": [
        "Se os índices a serem extraídos não forem consecutivos, tf.gather e tf.gather_nd são comumente usados para extração de dados no TensorFlow. Para extrair dados de uma dimensão específica, podemos usar:\n",
        "\n",
        "tf.gather(params, indices, axis=None)\n",
        "* **params**: tensor de entrada\n",
        "* **indices**: indice dos dados a serem extraídos\n",
        "* **axis**: dimensão na qual serão extraída os dados"
      ]
    },
    {
      "cell_type": "code",
      "execution_count": 17,
      "id": "31ea3373",
      "metadata": {
        "id": "31ea3373",
        "colab": {
          "base_uri": "https://localhost:8080/"
        },
        "outputId": "8e68462d-f3eb-457a-a328-0223749e8cec"
      },
      "outputs": [
        {
          "output_type": "execute_result",
          "data": {
            "text/plain": [
              "<tf.Tensor: shape=(3, 100, 100, 3), dtype=float32, numpy=\n",
              "array([[[[-0.70663583, -1.9260447 ,  0.4575039 ],\n",
              "         [-0.43381616, -0.06943356, -0.4138067 ],\n",
              "         [ 0.426807  , -0.06966431, -0.14122061],\n",
              "         ...,\n",
              "         [ 0.08260464, -1.1484364 , -1.2695748 ],\n",
              "         [ 0.45977092, -1.3422865 ,  0.07520789],\n",
              "         [ 0.23563668, -0.5209196 , -3.5563743 ]],\n",
              "\n",
              "        [[ 0.551013  ,  0.0572374 ,  0.17342563],\n",
              "         [ 1.1985164 , -0.8556692 ,  0.92624205],\n",
              "         [-0.12182465,  0.13373764, -0.01768946],\n",
              "         ...,\n",
              "         [-0.5046996 ,  0.71358496,  0.5158364 ],\n",
              "         [-0.76817346,  0.46345955,  1.322772  ],\n",
              "         [ 1.4464943 , -0.27591744,  0.834763  ]],\n",
              "\n",
              "        [[-0.7948773 ,  0.2623095 , -0.95075125],\n",
              "         [ 0.81909573,  1.8447001 ,  1.3596389 ],\n",
              "         [-1.1409392 ,  0.21197262,  0.77918375],\n",
              "         ...,\n",
              "         [-0.3973458 , -0.02520764, -0.89375705],\n",
              "         [ 1.0260229 ,  0.76497006, -0.20477214],\n",
              "         [ 0.66195476, -0.16537987,  0.16486755]],\n",
              "\n",
              "        ...,\n",
              "\n",
              "        [[ 0.30846992, -1.1228058 , -0.2891683 ],\n",
              "         [-0.1354016 ,  1.0485499 , -1.5686475 ],\n",
              "         [-0.5517649 ,  1.3154222 , -1.8346853 ],\n",
              "         ...,\n",
              "         [-0.16952625,  1.1409318 ,  0.06198071],\n",
              "         [-0.2546058 ,  1.940859  ,  0.46018812],\n",
              "         [-1.9599445 , -0.5336623 ,  0.7415605 ]],\n",
              "\n",
              "        [[ 0.06095539,  1.0946126 ,  0.7380092 ],\n",
              "         [-0.60145086, -1.4813418 , -1.5856365 ],\n",
              "         [-2.0237017 ,  0.68761784,  0.6368021 ],\n",
              "         ...,\n",
              "         [-1.0592941 , -1.5689632 ,  1.5535953 ],\n",
              "         [ 2.3103733 , -1.5227935 , -1.9648672 ],\n",
              "         [-0.9970197 , -1.7759998 ,  0.48729634]],\n",
              "\n",
              "        [[ 0.9049158 ,  0.92003554, -0.48352206],\n",
              "         [-1.3923012 , -0.33351383,  0.9042081 ],\n",
              "         [-0.77522427, -0.1346307 ,  0.52844495],\n",
              "         ...,\n",
              "         [ 0.9080756 , -0.31514654, -1.2041541 ],\n",
              "         [-1.2483717 , -0.67832863,  0.9129587 ],\n",
              "         [-0.50174415, -1.1933783 ,  0.16453978]]],\n",
              "\n",
              "\n",
              "       [[[ 0.42720848,  2.0957263 , -0.90887207],\n",
              "         [ 1.9861063 ,  1.5165843 ,  0.27393547],\n",
              "         [-0.8534868 , -0.06372851,  0.5250066 ],\n",
              "         ...,\n",
              "         [-1.0123202 ,  0.69640166,  0.6587862 ],\n",
              "         [ 0.02928133, -0.48260096,  0.76339275],\n",
              "         [-0.4087708 ,  0.95081055,  0.64112526]],\n",
              "\n",
              "        [[ 1.6235044 ,  1.5540906 ,  0.79443574],\n",
              "         [ 1.4250609 ,  0.6270357 , -0.56210303],\n",
              "         [ 0.278907  , -0.5815808 , -2.8664052 ],\n",
              "         ...,\n",
              "         [ 1.0001072 ,  0.48558035, -0.24160896],\n",
              "         [ 0.8086466 , -0.68186074, -0.4933546 ],\n",
              "         [-0.2913166 ,  0.00965717,  0.08941059]],\n",
              "\n",
              "        [[ 1.0811316 ,  0.92154974, -0.133751  ],\n",
              "         [ 0.03292183,  1.5077202 ,  0.10354108],\n",
              "         [-0.57992595, -0.1300537 ,  0.16106611],\n",
              "         ...,\n",
              "         [-0.36788476, -1.5179199 , -0.9891585 ],\n",
              "         [ 3.2083006 ,  2.0976033 ,  0.0815959 ],\n",
              "         [-0.0596323 ,  0.09664834, -1.3654796 ]],\n",
              "\n",
              "        ...,\n",
              "\n",
              "        [[-0.0045381 , -0.43630406, -0.32309732],\n",
              "         [-1.2497199 , -0.35397547,  0.27102685],\n",
              "         [ 0.6051604 , -0.3474928 , -0.81588435],\n",
              "         ...,\n",
              "         [-0.06623093, -0.3623185 ,  0.28660068],\n",
              "         [ 0.88110393, -0.56317896,  1.8245345 ],\n",
              "         [-0.09948601, -0.00668564,  0.8511393 ]],\n",
              "\n",
              "        [[ 0.5506991 ,  0.72707057, -0.5239787 ],\n",
              "         [-0.34673634,  0.36101288,  0.86155385],\n",
              "         [ 0.37147495,  0.41190967,  0.43354753],\n",
              "         ...,\n",
              "         [-1.7282455 ,  1.2955227 ,  0.9235707 ],\n",
              "         [-0.31334043,  0.07987241, -2.5206182 ],\n",
              "         [-0.02092836,  0.45479172, -1.367818  ]],\n",
              "\n",
              "        [[-0.4195684 ,  0.47287372, -1.101742  ],\n",
              "         [ 1.753969  ,  0.86264867, -0.5114348 ],\n",
              "         [ 0.1281589 , -0.6272287 , -0.32052642],\n",
              "         ...,\n",
              "         [-1.6233242 , -0.2817197 , -0.6753238 ],\n",
              "         [-0.54729044,  0.20753878, -0.5055279 ],\n",
              "         [ 0.65222967, -0.38986725, -0.33472055]]],\n",
              "\n",
              "\n",
              "       [[[-1.7250347 ,  0.26724705,  0.37354484],\n",
              "         [ 0.07561768,  0.06910999, -0.6319381 ],\n",
              "         [-1.2808576 ,  0.0391589 ,  0.9447068 ],\n",
              "         ...,\n",
              "         [-0.21865553,  0.88914484,  0.75298995],\n",
              "         [-1.2707    ,  1.8308415 , -0.8299922 ],\n",
              "         [-0.93092877,  1.1438266 , -0.00619348]],\n",
              "\n",
              "        [[ 1.2962157 ,  0.29794323, -0.09824505],\n",
              "         [ 0.28609893,  0.02761824,  0.80253994],\n",
              "         [-0.98042375, -0.05610109,  0.1696563 ],\n",
              "         ...,\n",
              "         [ 0.26267177,  0.46343753, -1.2298912 ],\n",
              "         [ 1.5533723 , -1.0175487 , -0.32514757],\n",
              "         [-0.67426145, -0.11744037,  0.29556426]],\n",
              "\n",
              "        [[-0.69107383, -0.63260365,  1.6209911 ],\n",
              "         [ 0.4774389 ,  0.9925281 ,  1.2393252 ],\n",
              "         [ 0.6636845 , -1.3722012 ,  0.24712615],\n",
              "         ...,\n",
              "         [ 0.08700396, -0.08753245, -0.19270676],\n",
              "         [ 0.55748284,  1.4075279 ,  0.57242614],\n",
              "         [ 1.0557976 , -0.4942566 , -0.1201055 ]],\n",
              "\n",
              "        ...,\n",
              "\n",
              "        [[ 0.48304275,  0.15351146,  0.1803069 ],\n",
              "         [-0.9823349 , -0.39105678, -0.76326925],\n",
              "         [ 0.8172261 , -0.7563218 ,  1.5682    ],\n",
              "         ...,\n",
              "         [ 0.67695045, -1.8515098 , -2.7286053 ],\n",
              "         [ 1.1269405 , -0.10996704, -1.2379706 ],\n",
              "         [ 0.8753682 ,  1.3982793 ,  0.56927586]],\n",
              "\n",
              "        [[ 0.8487461 ,  1.6085429 ,  0.35224372],\n",
              "         [ 0.9014528 ,  1.9047118 ,  0.8203722 ],\n",
              "         [-0.40618914, -2.659037  ,  1.6402994 ],\n",
              "         ...,\n",
              "         [ 0.00443704, -0.02265278, -0.47708893],\n",
              "         [ 2.1638844 ,  0.3248639 , -1.0538994 ],\n",
              "         [ 0.95065576, -0.2668763 , -1.9610467 ]],\n",
              "\n",
              "        [[ 0.9738375 ,  0.53094083,  0.35191476],\n",
              "         [ 0.28928834, -0.38156378, -0.4364306 ],\n",
              "         [-0.63337785, -0.7001547 , -0.34731302],\n",
              "         ...,\n",
              "         [ 0.81855166, -0.3524417 , -0.7723113 ],\n",
              "         [ 1.197602  , -0.48264316,  0.6425129 ],\n",
              "         [ 1.2861084 ,  0.8732369 ,  0.06760155]]]], dtype=float32)>"
            ]
          },
          "metadata": {},
          "execution_count": 17
        }
      ],
      "source": [
        "indices = [0,1,3]\n",
        "tf.gather(tensor_h,axis=0,indices=indices)"
      ]
    },
    {
      "cell_type": "markdown",
      "id": "98f28a4d",
      "metadata": {
        "id": "98f28a4d"
      },
      "source": [
        "tf.gather_nd permite extrair os dados de múltiplas dimensões\n",
        "\n",
        "tf.gather_nd(params, indices):\n",
        "* **params**: tensor de entrada\n",
        "* **indices**: indices dos dados a serem extraídos. Geralmente, é uma lista multi-dimensional."
      ]
    },
    {
      "cell_type": "code",
      "execution_count": 18,
      "id": "6f6512d5",
      "metadata": {
        "id": "6f6512d5",
        "colab": {
          "base_uri": "https://localhost:8080/"
        },
        "outputId": "8b93614e-547c-4beb-e15a-ed8f25685291"
      },
      "outputs": [
        {
          "output_type": "execute_result",
          "data": {
            "text/plain": [
              "<tf.Tensor: shape=(2,), dtype=float32, numpy=array([ 1.1985164 , -0.57992595], dtype=float32)>"
            ]
          },
          "metadata": {},
          "execution_count": 18
        }
      ],
      "source": [
        "indices = [[0,1,1,0],[1,2,2,0]]\n",
        "tf.gather_nd(tensor_h,indices=indices)"
      ]
    },
    {
      "cell_type": "markdown",
      "id": "832eab8c",
      "metadata": {
        "id": "832eab8c"
      },
      "source": [
        "## 1.4 Alterando Dimensões dos Tensores"
      ]
    },
    {
      "cell_type": "code",
      "execution_count": 19,
      "id": "f9241d49",
      "metadata": {
        "id": "f9241d49",
        "colab": {
          "base_uri": "https://localhost:8080/"
        },
        "outputId": "1b813f0d-4159-4e00-d221-a7524b014fdb"
      },
      "outputs": [
        {
          "output_type": "stream",
          "name": "stdout",
          "text": [
            "(2, 2)\n",
            "(2, 2)\n",
            "tf.Tensor([2 2], shape=(2,), dtype=int32)\n"
          ]
        }
      ],
      "source": [
        "const_d_1 = tf.constant([[1, 2, 3, 4]],shape=[2,2], dtype=tf.float32)\n",
        "\n",
        "# três formas para verificar as dimensões do tensor\n",
        "print(const_d_1.shape)\n",
        "print(const_d_1.get_shape())\n",
        "print(tf.shape(const_d_1))\n"
      ]
    },
    {
      "cell_type": "markdown",
      "id": "3376cded",
      "metadata": {
        "id": "3376cded"
      },
      "source": [
        "Conforme descrito acima, **.shape** e **.get_shape()** retornam objetos TensorShape, enquanto **tf.shape(x)** retorna objetos Tensor."
      ]
    },
    {
      "cell_type": "markdown",
      "id": "3e8e90e4",
      "metadata": {
        "id": "3e8e90e4"
      },
      "source": [
        "### 1.4.1 Reshaping\n",
        "tf.reshape(tensor,shape,name=None):\n",
        "* **tensor**: tensor de entrada\n",
        "* **shape**: formato para ser alterado"
      ]
    },
    {
      "cell_type": "code",
      "execution_count": 20,
      "id": "7c0a40a3",
      "metadata": {
        "id": "7c0a40a3",
        "colab": {
          "base_uri": "https://localhost:8080/"
        },
        "outputId": "bdf5b772-d6fb-45da-ab5c-d72361772894"
      },
      "outputs": [
        {
          "output_type": "stream",
          "name": "stdout",
          "text": [
            "tf.Tensor(\n",
            "[[1 2 3]\n",
            " [4 5 6]], shape=(2, 3), dtype=int32)\n"
          ]
        },
        {
          "output_type": "execute_result",
          "data": {
            "text/plain": [
              "<tf.Tensor: shape=(3, 2), dtype=int32, numpy=\n",
              "array([[1, 2],\n",
              "       [3, 4],\n",
              "       [5, 6]], dtype=int32)>"
            ]
          },
          "metadata": {},
          "execution_count": 20
        }
      ],
      "source": [
        "reshape_1 = tf.constant([[1,2,3],[4,5,6]])\n",
        "print(reshape_1)\n",
        "tf.reshape(reshape_1, (3,2))"
      ]
    },
    {
      "cell_type": "markdown",
      "id": "3e4aec00",
      "metadata": {
        "id": "3e4aec00"
      },
      "source": [
        "### 1.4.2 Expandindo Dimensões\n",
        "\n",
        "tf.expand_dims(input,axis,name=None):\n",
        "* **input**: tensor de entrada\n",
        "* **axis**: adiciona uma dimensão após a dimensão do eixo. Dada uma entrada de dimensões D, o eixo deve estar no intervalo [-(D+1), D] (inclusive). Um valor negativo indica a ordem inversa."
      ]
    },
    {
      "cell_type": "code",
      "execution_count": 21,
      "id": "877adbe2",
      "metadata": {
        "id": "877adbe2",
        "colab": {
          "base_uri": "https://localhost:8080/"
        },
        "outputId": "cce86c73-ac23-4f6d-dbd9-e741e4b32c80"
      },
      "outputs": [
        {
          "output_type": "stream",
          "name": "stdout",
          "text": [
            "Tamanho original dos dados:  (100, 100, 3)\n",
            "add uma dimensão (axis=0) antes da primeira dimensão:  (1, 100, 100, 3)\n",
            "add uma dimensão (axis=1) antes da segunda dimensão:  (100, 1, 100, 3)\n",
            "add uma dimensão (axis=-1) depois da úçtima dimensão:  (100, 100, 3, 1)\n"
          ]
        }
      ],
      "source": [
        "expand_sample_1 = tf.random.normal([100,100,3], seed=1)\n",
        "print(\"Tamanho original dos dados: \",expand_sample_1.shape)\n",
        "print(\"add uma dimensão (axis=0) antes da primeira dimensão: \",tf.expand_dims(expand_sample_1, axis=0).shape)\n",
        "print(\"add uma dimensão (axis=1) antes da segunda dimensão: \",tf.expand_dims(expand_sample_1, axis=1).shape)\n",
        "print(\"add uma dimensão (axis=-1) depois da úçtima dimensão: \",tf.expand_dims(expand_sample_1, axis=-1).shape)"
      ]
    },
    {
      "cell_type": "markdown",
      "id": "29def9b5",
      "metadata": {
        "id": "29def9b5"
      },
      "source": [
        "### 1.4.3 Reduzindo dimensões\n",
        "tf.squeeze(input,axis=None,name=None):\n",
        "\n",
        "Este método é usado para remover dimensões de tamanho 1 da forma de um tensor.\n",
        "* **entrada**: tensor de entrada\n",
        "* **eixo**: Se você não deseja remover todas as dimensões de tamanho 1, remova as dimensões específicas de tamanho 1 especificando o eixo."
      ]
    },
    {
      "cell_type": "code",
      "execution_count": 22,
      "id": "67275766",
      "metadata": {
        "id": "67275766",
        "colab": {
          "base_uri": "https://localhost:8080/"
        },
        "outputId": "787f75bf-6b67-47a6-85dd-93f8cbbdec05"
      },
      "outputs": [
        {
          "output_type": "stream",
          "name": "stdout",
          "text": [
            "Tamanho original dos dados:  (1, 100, 100, 3)\n",
            "Dados reduzidos:  (100, 100, 3)\n",
            "t_1.shape: (2, 3)\n",
            "t_1_new.shape: (1, 2, 3, 1)\n"
          ]
        }
      ],
      "source": [
        "orig_sample_1 = tf.random.normal([1,100,100,3])\n",
        "print(\"Tamanho original dos dados: \",orig_sample_1.shape)\n",
        "\n",
        "squeezed_sample_1 = tf.squeeze(orig_sample_1)\n",
        "print(\"Dados reduzidos: \",squeezed_sample_1.shape)\n",
        "\n",
        "# As dimensões da amostra reduzida são: [1, 2, 1, 3, 1, 1].\n",
        "squeeze_sample_2 = tf.random.normal([1, 2, 1, 3, 1, 1])\n",
        "t_1 = tf.squeeze(squeeze_sample_2) # dimensões de tamanho 1 são removidas.\n",
        "print('t_1.shape:', t_1.shape)\n",
        "\n",
        "# Remove uma dimensão especifica\n",
        "# 't' é um tensor de shape [1, 2, 1, 3, 1, 1]\n",
        "t_1_new = tf.squeeze(squeeze_sample_2, [2, 4])\n",
        "print('t_1_new.shape:', t_1_new.shape)"
      ]
    },
    {
      "cell_type": "markdown",
      "id": "10f61636",
      "metadata": {
        "id": "10f61636"
      },
      "source": [
        "### 1.4.4 Transpose\n",
        "\n",
        "tf.transpose(a,perm=None,conjugate=False,name='transpose'):\n",
        "* **a**: tensor de entrada\n",
        "* **perm**: permutação das dimensões de a, geralmente usada para transpor matrizes de alta dimensão\n",
        "* **conjugate**: transposição conjugada\n"
      ]
    },
    {
      "cell_type": "code",
      "execution_count": 23,
      "id": "9e1896b3",
      "metadata": {
        "id": "9e1896b3",
        "colab": {
          "base_uri": "https://localhost:8080/"
        },
        "outputId": "57ba5e7f-93d4-4f55-9257-e55a02d51669"
      },
      "outputs": [
        {
          "output_type": "stream",
          "name": "stdout",
          "text": [
            "Tamanho original dos dados:  (2, 3)\n",
            "Dados transpostos:  (3, 2)\n"
          ]
        }
      ],
      "source": [
        "trans_sample_1 = tf.constant([1,2,3,4,5,6],shape=[2,3])\n",
        "print(\"Tamanho original dos dados: \",trans_sample_1.shape)\n",
        "transposed_sample_1 = tf.transpose(trans_sample_1)\n",
        "print(\"Dados transpostos: \",transposed_sample_1.shape)"
      ]
    },
    {
      "cell_type": "markdown",
      "id": "28ddfc3c",
      "metadata": {
        "id": "28ddfc3c"
      },
      "source": [
        "O parâmetro perm é necessário para transpor dados de alta dimensão. perm indica a permutação das dimensões do tensor de entrada.\n",
        "Para um tensor tridimensional, sua permutação de dimensão original é [0, 1, 2] (perm), indicando o comprimento, a largura e a altura dos dados de alta dimensão, respectivamente. Ao alterar a sequência de valores em perm, você pode transpor a dimensão correspondente dos dados."
      ]
    },
    {
      "cell_type": "code",
      "execution_count": 41,
      "id": "59e2eff9",
      "metadata": {
        "id": "59e2eff9",
        "colab": {
          "base_uri": "https://localhost:8080/"
        },
        "outputId": "0a192f3e-7135-4adf-a387-f96677040b03"
      },
      "outputs": [
        {
          "output_type": "stream",
          "name": "stdout",
          "text": [
            "original data size:  (4, 100, 200, 3)\n",
            "transposed data size:  (4, 200, 100, 3)\n"
          ]
        }
      ],
      "source": [
        "trans_sample_2 = tf.random.normal([4,100,200,3])\n",
        "print(\"original data size: \",trans_sample_2.shape)\n",
        "transposed_sample_2 = tf.transpose(trans_sample_2,[0,2,1,3])\n",
        "print(\"transposed data size: \",transposed_sample_2.shape)"
      ]
    },
    {
      "cell_type": "markdown",
      "id": "ca680ac6",
      "metadata": {
        "id": "ca680ac6"
      },
      "source": [
        "### 1.4.5 Broadcasting\n",
        "\n",
        "Broadcasting é usado para transmitir dados de uma dimensão baixa para uma dimensão alta.\n",
        "\n",
        "tf.broadcast_to(input,shape,name=None):\n",
        "* **input**: tensor de entrada\n",
        "* **shape**: formato do novo tensor"
      ]
    },
    {
      "cell_type": "code",
      "execution_count": 24,
      "id": "e00b0290",
      "metadata": {
        "id": "e00b0290",
        "colab": {
          "base_uri": "https://localhost:8080/"
        },
        "outputId": "4512773a-9b20-4505-9553-6da1aecf5212"
      },
      "outputs": [
        {
          "output_type": "stream",
          "name": "stdout",
          "text": [
            "original data:  [1 2 3 4 5 6]\n",
            "broadcast data:  [[1 2 3 4 5 6]\n",
            " [1 2 3 4 5 6]\n",
            " [1 2 3 4 5 6]\n",
            " [1 2 3 4 5 6]]\n"
          ]
        }
      ],
      "source": [
        "broadcast_sample_1 = tf.constant([1,2,3,4,5,6])\n",
        "print(\"original data: \",broadcast_sample_1.numpy())\n",
        "broadcasted_sample_1 = tf.broadcast_to(broadcast_sample_1,shape=[4,6])\n",
        "print(\"broadcast data: \",broadcasted_sample_1.numpy())"
      ]
    },
    {
      "cell_type": "code",
      "execution_count": 25,
      "id": "d951f6bb",
      "metadata": {
        "id": "d951f6bb",
        "colab": {
          "base_uri": "https://localhost:8080/"
        },
        "outputId": "44ac25f9-b36d-48c2-a508-27a21b2d47e6"
      },
      "outputs": [
        {
          "output_type": "stream",
          "name": "stdout",
          "text": [
            "tf.Tensor(\n",
            "[[ 1  2  3]\n",
            " [11 12 13]\n",
            " [21 22 23]\n",
            " [31 32 33]], shape=(4, 3), dtype=int32)\n"
          ]
        }
      ],
      "source": [
        "a = tf.constant([[ 0, 0, 0],\n",
        "                [10,10,10],\n",
        "                [20,20,20],\n",
        "                [30,30,30]])\n",
        "\n",
        "b = tf.constant([1,2,3])\n",
        "print(a + b)"
      ]
    },
    {
      "cell_type": "markdown",
      "id": "9a5698e4",
      "metadata": {
        "id": "9a5698e4"
      },
      "source": [
        "## 1.5 Operações Aritiméticas\n",
        "\n",
        "As operações aritméticas incluem adição (tf.add), subtração (tf.subtract), multiplicação (tf.multiply), divisão (tf.divide), logaritmo (tf.math.log) e potências (tf.pow). O seguinte é um exemplo de adição."
      ]
    },
    {
      "cell_type": "code",
      "execution_count": 26,
      "id": "9334c383",
      "metadata": {
        "id": "9334c383",
        "colab": {
          "base_uri": "https://localhost:8080/"
        },
        "outputId": "4f2a3bb0-228b-43d5-b052-8afc20d1d569"
      },
      "outputs": [
        {
          "output_type": "stream",
          "name": "stdout",
          "text": [
            "tf.Tensor(\n",
            "[[ 4 11]\n",
            " [ 6 17]], shape=(2, 2), dtype=int32)\n"
          ]
        }
      ],
      "source": [
        "a = tf.constant([[3, 5], [4, 8]])\n",
        "b = tf.constant([[1, 6], [2, 9]])\n",
        "print(tf.add(a, b))"
      ]
    },
    {
      "cell_type": "markdown",
      "id": "49c42e27",
      "metadata": {
        "id": "49c42e27"
      },
      "source": [
        "### 1.5.1 Multiplicação de Matrizes\n",
        "\n",
        "A multiplicação de matrizes é implementada chamando tf.matmul."
      ]
    },
    {
      "cell_type": "code",
      "execution_count": 27,
      "id": "a09f26ab",
      "metadata": {
        "id": "a09f26ab",
        "colab": {
          "base_uri": "https://localhost:8080/"
        },
        "outputId": "1a26e37e-5ddd-4c6c-a709-ae8021f0f05a"
      },
      "outputs": [
        {
          "output_type": "execute_result",
          "data": {
            "text/plain": [
              "<tf.Tensor: shape=(2, 2), dtype=int32, numpy=\n",
              "array([[13, 63],\n",
              "       [20, 96]], dtype=int32)>"
            ]
          },
          "metadata": {},
          "execution_count": 27
        }
      ],
      "source": [
        "tf.matmul(a,b)"
      ]
    },
    {
      "cell_type": "markdown",
      "id": "8284c2e6",
      "metadata": {
        "id": "8284c2e6"
      },
      "source": [
        "### 1.5.2 Coletando Estatísticas sobre os Tensores\n",
        "Os métodos para coletar estatísticas de tensores incluem:\n",
        "\n",
        "* **tf.reduce_min/max/mean()**: calcula o valor mínimo, máximo e médio do tensor.\n",
        "* **tf.argmax()/tf.argmin()**: calcula a posição do valor mínimo e máximo no tensor.\n",
        "* **tf.equal()**: verifica se dois tensores possuem os mesmos valores\n",
        "* **tf.unique()**: removes duplicate elements from a tensor.\n",
        "* **tf.nn.in_top_k(prediction, target, K)**: calculates whether the predicted value is equal to the actual value and returns a tensor of the Boolean type."
      ]
    },
    {
      "cell_type": "code",
      "execution_count": 28,
      "id": "f8f84542",
      "metadata": {
        "id": "f8f84542",
        "colab": {
          "base_uri": "https://localhost:8080/"
        },
        "outputId": "9254221c-31d6-42d1-91a8-079fab480746"
      },
      "outputs": [
        {
          "output_type": "stream",
          "name": "stdout",
          "text": [
            "Tensor de entrada: \n",
            "[[1 3 2]\n",
            " [2 5 8]\n",
            " [7 5 9]]\n",
            "Maior valor por coluna: [2 1 2]\n",
            "Maior valor por linha : [1 2 2]\n"
          ]
        }
      ],
      "source": [
        "argmax_sample_1 = tf.constant([[1,3,2], [2, 5, 8], [7, 5, 9]])\n",
        "print(f'Tensor de entrada: \\n{argmax_sample_1.numpy()}')\n",
        "\n",
        "max_sample_1 = tf.argmax(argmax_sample_1, axis=0)\n",
        "max_sample_2 = tf.argmax(argmax_sample_1, axis=1)\n",
        "\n",
        "print(f'Maior valor por coluna: {max_sample_1.numpy()}')\n",
        "print(f'Maior valor por linha : {max_sample_2.numpy()}')"
      ]
    },
    {
      "cell_type": "markdown",
      "id": "1365b5ed",
      "metadata": {
        "id": "1365b5ed"
      },
      "source": [
        "### 1.5.3 Operações baseadas em Dimensões\n",
        "\n",
        "No TensorFlow, operações como **tf.reduce_\\*** reduzem as dimensões do tensor. Essas operações podem ser realizadas nos elementos de dimensão de um tensor, por exemplo, calculando o valor médio por linha e calculando um produto de todos os elementos do tensor.\n",
        "\n",
        "Operações comuns incluem **tf.reduce_sum (adição)**, **tf.reduce_prod (multiplicação)**, **tf.reduce_min (mínimo)**, **tf.reduce_max (máximo)**, **tf.reduce_mean (média)**, **tf.reduce_all (AND lógico)**, **tf.reduce_any ( OR lógico)** e **tf.reduce_logsumexp (log(sum(exp)))**. A forma de uso dessas operações são semelhantes. Portanto, o exemplo a seguir usa a operação tf.reduce_sum como base\n",
        "\n",
        "Calcule a soma dos elementos nas dimensões de um tensor.\n",
        "\n",
        "tf.reduce_sum(input_tensor, axis=None, keepdims=False):\n",
        "* **input_tensor**: tensor para reduzir\n",
        "* **axis**: eixo a ser calculado. Se este parâmetro não for especificado, o valor médio de todos os elementos é calculado.\n",
        "* **keepdims**: se deve reduzir a dimensão. Se este parâmetro for definido como True, o resultado da saída retém a forma do tensor de entrada. Se este parâmetro for definido como Falso, a dimensão do resultado da saída é reduzido."
      ]
    },
    {
      "cell_type": "code",
      "execution_count": 29,
      "id": "688e5155",
      "metadata": {
        "id": "688e5155",
        "colab": {
          "base_uri": "https://localhost:8080/"
        },
        "outputId": "ccbcf1b9-26a9-4879-ab9a-b0bdb414e211"
      },
      "outputs": [
        {
          "output_type": "stream",
          "name": "stdout",
          "text": [
            "Dados originais [[1 2 3]\n",
            " [4 5 6]]\n",
            "Calcula a soma de todos os elementos em um tensor (axis=None): 21\n",
            "Calcula a soma de todos os elementos por coluna (axis=0):  [5 7 9]\n",
            "Calcula a soma de todos os elementos por linha (axis=1):  [ 6 15]\n"
          ]
        }
      ],
      "source": [
        "reduce_sample_1 = tf.constant([1,2,3,4,5,6],shape=[2,3])\n",
        "print(\"Dados originais\", reduce_sample_1.numpy())\n",
        "print(\"Calcula a soma de todos os elementos em um tensor (axis=None):\",tf.reduce_sum(reduce_sample_1,axis=None).numpy())\n",
        "print(\"Calcula a soma de todos os elementos por coluna (axis=0): \",tf.reduce_sum(reduce_sample_1,axis=0).numpy())\n",
        "print(\"Calcula a soma de todos os elementos por linha (axis=1): \",tf.reduce_sum(reduce_sample_1,axis=1).numpy())"
      ]
    },
    {
      "cell_type": "markdown",
      "id": "c28a6404",
      "metadata": {
        "id": "c28a6404"
      },
      "source": [
        "### 1.5.4 Concatenando Tensores\n",
        "\n",
        "No TensorFlow, as operações de concatenação de tensor incluem:\n",
        "* **tf.contact()**: concatena tensores ao longo de uma dimensão. As outras dimensões permanecem inalteradas.\n",
        "* **tf.stack()**: empilha a lista de tensores de rank R em um tensor de rank (R+1). As dimensões são alteradas após o empilhamento.\n",
        "\n",
        "**tf.concat(values, axis):**\n",
        "* **values**: tensor de entrada\n",
        "* **axis**: dimensão na qual será concatenada"
      ]
    },
    {
      "cell_type": "code",
      "execution_count": 30,
      "id": "f7564aba",
      "metadata": {
        "id": "f7564aba",
        "colab": {
          "base_uri": "https://localhost:8080/"
        },
        "outputId": "e1682b3d-ef6a-451a-eeee-d7bdd9ef380a"
      },
      "outputs": [
        {
          "output_type": "stream",
          "name": "stdout",
          "text": [
            "Formato dos dados originais:  (4, 100, 100, 3) (40, 100, 100, 3)\n",
            "Formato dos dados concatenados:  (44, 100, 100, 3)\n"
          ]
        }
      ],
      "source": [
        "concat_sample_1 = tf.random.normal([4,100,100,3])\n",
        "concat_sample_2 = tf.random.normal([40,100,100,3])\n",
        "print(\"Formato dos dados originais: \",concat_sample_1.shape, concat_sample_2.shape)\n",
        "concated_sample_1 = tf.concat([concat_sample_1,concat_sample_2],axis=0)\n",
        "print(\"Formato dos dados concatenados: \",concated_sample_1.shape)"
      ]
    },
    {
      "cell_type": "markdown",
      "id": "93f34534",
      "metadata": {
        "id": "93f34534"
      },
      "source": [
        "Uma dimensão é adicionada a uma matriz original da mesma maneira. axis determina a posição onde a dimensão é adicionada.\n",
        "\n",
        "**tf.stack(values, axis=0):**\n",
        "* **values**: lista de tensores com o mesmo formato e tipo\n",
        "* **axis**: eixo para empilhar os tensores"
      ]
    },
    {
      "cell_type": "code",
      "execution_count": 31,
      "id": "bc627ec5",
      "metadata": {
        "id": "bc627ec5",
        "colab": {
          "base_uri": "https://localhost:8080/"
        },
        "outputId": "f6adf739-38ff-4f4b-c386-6c8396e301ac"
      },
      "outputs": [
        {
          "output_type": "stream",
          "name": "stdout",
          "text": [
            "Formato dos dados originais:  (100, 100, 3) (100, 100, 3)\n",
            "Formato dos dados stackados:  (2, 100, 100, 3)\n"
          ]
        }
      ],
      "source": [
        "stack_sample_1 = tf.random.normal([100,100,3])\n",
        "stack_sample_2 = tf.random.normal([100,100,3])\n",
        "print(\"Formato dos dados originais: \",stack_sample_1.shape, stack_sample_2.shape)\n",
        "\n",
        "stacked_sample_1 = tf.stack([stack_sample_1, stack_sample_2],axis=0)\n",
        "print(\"Formato dos dados stackados: \",stacked_sample_1.shape)"
      ]
    },
    {
      "cell_type": "markdown",
      "id": "1733fab4",
      "metadata": {
        "id": "1733fab4"
      },
      "source": [
        "### 1.5.5 Separando Tensores\n",
        "\n",
        "No TensorFlow, as operações de separação do tensor incluem:\n",
        "* **tf.unstack()**: descompacta os tensores ao longo da dimensão específica.\n",
        "* **tf.split()**: divide um tensor em uma lista de subtensores com base em dimensões específicas.\n",
        "\n",
        "tf.unstack(value,num=None,axis=0):\n",
        "* **value**: tensor de entrada\n",
        "* **num**: exibe uma lista contendo num elementos. num deve ser igual ao número de elementos na dimensão especificada. Geralmente, esse parâmetro é ignorado.\n",
        "* **axis**: eixo para desempilhar"
      ]
    },
    {
      "cell_type": "code",
      "execution_count": 32,
      "id": "8bf80450",
      "metadata": {
        "scrolled": true,
        "id": "8bf80450",
        "colab": {
          "base_uri": "https://localhost:8080/"
        },
        "outputId": "6f4ca279-2486-48ee-8b43-e6148fc3f906"
      },
      "outputs": [
        {
          "output_type": "execute_result",
          "data": {
            "text/plain": [
              "[<tf.Tensor: shape=(100, 100, 3), dtype=float32, numpy=\n",
              " array([[[ 2.2624941e+00,  1.2447733e+00,  3.5410070e-01],\n",
              "         [ 4.5642045e-01, -5.0833714e-01, -9.7257525e-01],\n",
              "         [-1.7199630e+00, -9.3757111e-01,  7.2959274e-01],\n",
              "         ...,\n",
              "         [-2.8627160e-01,  3.6713687e-01,  5.6217277e-01],\n",
              "         [ 1.0710719e+00, -3.3370182e-01, -8.3276939e-01],\n",
              "         [-9.1812134e-01, -4.3923119e-01,  6.9818813e-01]],\n",
              " \n",
              "        [[ 4.2792284e-01,  5.9350532e-01,  6.7192197e-02],\n",
              "         [ 4.7006398e-01, -1.7924404e-01,  2.7644235e-01],\n",
              "         [ 1.3621633e+00, -1.0663546e+00, -5.3726262e-01],\n",
              "         ...,\n",
              "         [-1.7050306e+00,  3.1857282e-01, -1.6540185e-01],\n",
              "         [-1.7737105e+00,  9.5042783e-01,  5.2818120e-03],\n",
              "         [-5.9803927e-01,  1.2550112e+00, -1.9964716e+00]],\n",
              " \n",
              "        [[-9.3000537e-01,  7.2642900e-02,  6.5151155e-02],\n",
              "         [-1.3598039e+00,  9.8733789e-01,  1.4837321e+00],\n",
              "         [ 3.1177187e-01, -2.3209550e+00,  2.3227017e-01],\n",
              "         ...,\n",
              "         [ 5.6024677e-01,  9.0402627e-01, -1.0358388e-01],\n",
              "         [ 1.3329257e+00, -9.1126603e-01,  2.5159982e-01],\n",
              "         [-5.1955587e-01, -7.1233296e-01, -8.1229813e-02]],\n",
              " \n",
              "        ...,\n",
              " \n",
              "        [[-4.2733988e-01,  1.1328152e+00, -9.5073384e-01],\n",
              "         [ 5.6459224e-01,  1.2886715e+00,  1.6602663e+00],\n",
              "         [ 4.4354442e-01,  2.0382080e+00, -4.3277830e-01],\n",
              "         ...,\n",
              "         [ 1.1409795e+00,  1.9232237e+00, -5.9111542e-01],\n",
              "         [-6.2043452e-01,  1.9422792e-01, -5.6055772e-01],\n",
              "         [-5.0106305e-01, -3.7231676e-02, -1.1579591e+00]],\n",
              " \n",
              "        [[-1.7731038e-01, -3.9058283e-02,  9.4099778e-01],\n",
              "         [-8.8374060e-01, -1.4022638e+00, -8.4624380e-01],\n",
              "         [-5.6453544e-01,  2.3307803e-01, -1.6030557e+00],\n",
              "         ...,\n",
              "         [-1.2745863e-03,  1.2346925e+00,  1.0632383e+00],\n",
              "         [-6.0908277e-02,  1.0321310e-01, -4.6364680e-01],\n",
              "         [ 3.5089600e-01, -5.3635389e-01,  1.7076223e+00]],\n",
              " \n",
              "        [[ 1.7458781e+00, -7.4210656e-01,  1.0846595e-02],\n",
              "         [ 1.0864857e+00, -1.7028488e-02, -1.5254304e+00],\n",
              "         [-1.4013406e+00, -9.5505303e-01,  1.2648702e+00],\n",
              "         ...,\n",
              "         [ 1.0986180e+00, -1.1635727e+00,  1.1840566e-01],\n",
              "         [ 2.4714491e+00,  7.2035474e-01,  1.6903383e-01],\n",
              "         [ 1.2769531e-01,  1.2503355e+00,  1.9118911e+00]]], dtype=float32)>,\n",
              " <tf.Tensor: shape=(100, 100, 3), dtype=float32, numpy=\n",
              " array([[[-0.1378461 ,  0.30721533, -1.7523903 ],\n",
              "         [-1.387618  , -0.89552265,  0.9021012 ],\n",
              "         [ 0.08530186, -0.85786253, -0.23199557],\n",
              "         ...,\n",
              "         [-0.9757635 , -0.5824378 ,  0.02267044],\n",
              "         [-0.97235495,  0.59124297,  0.4716741 ],\n",
              "         [ 0.3183428 ,  0.23084033, -0.52420926]],\n",
              " \n",
              "        [[-0.11351018,  1.7973452 ,  0.7548461 ],\n",
              "         [-1.1229483 ,  0.26537   , -1.4273556 ],\n",
              "         [-1.1204157 , -0.28812274,  1.9593523 ],\n",
              "         ...,\n",
              "         [-1.584705  , -1.143596  , -0.73842186],\n",
              "         [ 0.25332868,  0.19264013, -1.0554537 ],\n",
              "         [ 0.6385055 , -0.02263404,  0.46641275]],\n",
              " \n",
              "        [[-0.3429764 ,  0.99801594,  0.9764226 ],\n",
              "         [-1.4046315 ,  0.8708271 , -1.8335959 ],\n",
              "         [ 0.59038436, -0.51662487, -0.7848463 ],\n",
              "         ...,\n",
              "         [ 1.7998059 , -0.42077583,  0.5858728 ],\n",
              "         [ 0.20889811, -1.250051  , -0.07016537],\n",
              "         [ 0.14635506, -1.4088813 ,  1.1539204 ]],\n",
              " \n",
              "        ...,\n",
              " \n",
              "        [[-0.3698201 , -0.92263913,  0.4824076 ],\n",
              "         [-1.4827272 , -0.2900041 ,  0.3903626 ],\n",
              "         [-0.13431036,  0.30615816,  1.0766945 ],\n",
              "         ...,\n",
              "         [ 2.226729  , -1.7321333 ,  0.26828423],\n",
              "         [-1.0903426 ,  1.4649609 , -0.08520001],\n",
              "         [ 0.2575723 ,  0.45178074,  1.2841312 ]],\n",
              " \n",
              "        [[-0.83211386, -0.6740473 , -0.50009257],\n",
              "         [ 1.8655114 , -0.34486395,  0.07864206],\n",
              "         [-0.8559958 ,  0.6507209 , -0.11234619],\n",
              "         ...,\n",
              "         [-0.01780465, -0.21336307,  0.39279673],\n",
              "         [ 0.28225815, -0.47558036, -0.15726104],\n",
              "         [ 0.4479629 , -1.0835173 ,  2.3831048 ]],\n",
              " \n",
              "        [[-1.011961  , -0.7911934 ,  1.1131474 ],\n",
              "         [ 0.32028466,  0.70076257, -2.3662739 ],\n",
              "         [-0.25992322,  0.3163577 ,  3.3333063 ],\n",
              "         ...,\n",
              "         [ 0.25122577, -0.04456834, -0.64943445],\n",
              "         [-0.91891646,  0.34897742,  0.61744356],\n",
              "         [-0.2523553 , -1.2431462 ,  1.4658298 ]]], dtype=float32)>]"
            ]
          },
          "metadata": {},
          "execution_count": 32
        }
      ],
      "source": [
        "tf.unstack(stacked_sample_1,axis=0)"
      ]
    },
    {
      "cell_type": "markdown",
      "id": "4f3ed059",
      "metadata": {
        "id": "4f3ed059"
      },
      "source": [
        "tf.split(value, num_or_size_splits, axis=0):\n",
        "* **value**: tensor de entrada\n",
        "* **num_or_size_splits**: número de divisões\n",
        "* **axis**: dimensão ao longo da qual dividir"
      ]
    },
    {
      "cell_type": "code",
      "execution_count": 33,
      "id": "be5ba8b5",
      "metadata": {
        "id": "be5ba8b5",
        "colab": {
          "base_uri": "https://localhost:8080/"
        },
        "outputId": "bccfbe53-85ac-483c-cd89-a43851465877"
      },
      "outputs": [
        {
          "output_type": "stream",
          "name": "stdout",
          "text": [
            "Formato dos dados originais:  (10, 100, 100, 3)\n",
            "Formato dos dados separados com num=5:  (5, 2, 100, 100, 3)\n",
            "Formato dos dados separados com num=[3,5,2]: (3, 100, 100, 3) (5, 100, 100, 3) (2, 100, 100, 3)\n"
          ]
        }
      ],
      "source": [
        "import numpy as np\n",
        "\n",
        "split_sample_1 = tf.random.normal([10,100,100,3])\n",
        "print(\"Formato dos dados originais: \",split_sample_1.shape)\n",
        "splited_sample_1 = tf.split(split_sample_1, num_or_size_splits=5,axis=0)\n",
        "\n",
        "print(\"Formato dos dados separados com num=5: \",np.shape(splited_sample_1))\n",
        "\n",
        "splited_sample_2 = tf.split(split_sample_1, num_or_size_splits=[3,5,2],axis=0)\n",
        "print(\"Formato dos dados separados com num=[3,5,2]:\",\n",
        "np.shape(splited_sample_2[0]),\n",
        "np.shape(splited_sample_2[1]),\n",
        "np.shape(splited_sample_2[2]))"
      ]
    },
    {
      "cell_type": "markdown",
      "id": "34273c3e",
      "metadata": {
        "id": "34273c3e"
      },
      "source": [
        "### 1.5.6 Ordenando Tensores\n",
        "No TensorFlow, as operações de ordenação de tensores incluem:\n",
        "* **tf.sort()**: ordena os tensores em ordem crescente ou decrescente e retorna os tensores ordenados.\n",
        "* **tf.argsort()**: ordena os tensores em ordem crescente ou decrescente e retorna os índices.\n",
        "* **tf.nn.top_k()**: retorna os k maiores valores.\n",
        "\n",
        "tf.sort/argsort(input, direction, axis):\n",
        "* **input**: tensor de entrada\n",
        "* **direction**: direção na qual ordenar os valores. O valor pode ser DESCENDENTE ou ASCENDENTE. O valor padrão é ASCENDENTE (do menor para o maior).\n",
        "* **axis**: eixo ao longo do qual será ordenado. O valor padrão é -1, que ordena o último eixo."
      ]
    },
    {
      "cell_type": "code",
      "execution_count": 34,
      "id": "6dd65932",
      "metadata": {
        "id": "6dd65932",
        "colab": {
          "base_uri": "https://localhost:8080/"
        },
        "outputId": "e5461ca7-ad03-4439-b19e-07016de4802b"
      },
      "outputs": [
        {
          "output_type": "stream",
          "name": "stdout",
          "text": [
            "input tensor:  [0 2 1 5 8 9 6 4 3 7]\n",
            "tensor ordenado de forma ascendente:  [0 1 2 3 4 5 6 7 8 9]\n",
            "Indices doselementos em ordem ascendente:  [0 2 1 8 7 3 6 9 4 5]\n"
          ]
        }
      ],
      "source": [
        "sort_sample_1 = tf.random.shuffle(tf.range(10))\n",
        "print(\"input tensor: \",sort_sample_1.numpy())\n",
        "sorted_sample_1 = tf.sort(sort_sample_1, direction=\"ASCENDING\")\n",
        "print(\"tensor ordenado de forma ascendente: \",sorted_sample_1.numpy())\n",
        "sorted_sample_2 = tf.argsort(sort_sample_1,direction=\"ASCENDING\")\n",
        "print(\"Indices doselementos em ordem ascendente: \",sorted_sample_2.numpy())"
      ]
    },
    {
      "cell_type": "markdown",
      "id": "03a1900d",
      "metadata": {
        "id": "03a1900d"
      },
      "source": [
        "tf.nn.top_k(input,K,sorted=TRUE):\n",
        "* **input**: tensor de entrada\n",
        "* **K**: k maiores valores a serem produzidos e seus índices\n",
        "* **sorted**: sorted=TRUE indica em ordem crescente. sorted=FALSE indica em ordem decrescente.\n",
        "\n",
        "Dois tensores são retornados:\n",
        "* **valores**: k maiores valores em cada linha\n",
        "* **índices**: índices de valores dentro da última dimensão de entrada"
      ]
    },
    {
      "cell_type": "code",
      "execution_count": 35,
      "id": "655bae45",
      "metadata": {
        "id": "655bae45",
        "colab": {
          "base_uri": "https://localhost:8080/"
        },
        "outputId": "a18100e2-d4d3-483b-f0a2-d4c1fccabf65"
      },
      "outputs": [
        {
          "output_type": "stream",
          "name": "stdout",
          "text": [
            "input tensor:  [0 2 1 5 8 9 6 4 3 7]\n",
            "K maiores valores em ordem ascendente:  [9 8 7 6 5]\n",
            "indices dos K maiores valores em ordem ascendente:  [5 4 9 6 3]\n"
          ]
        }
      ],
      "source": [
        "values, index = tf.nn.top_k(sort_sample_1,5)\n",
        "print(\"input tensor: \",sort_sample_1.numpy())\n",
        "print(\"K maiores valores em ordem ascendente: \", values.numpy())\n",
        "print(\"indices dos K maiores valores em ordem ascendente: \", index.numpy())"
      ]
    },
    {
      "cell_type": "markdown",
      "id": "cbcdfaa7",
      "metadata": {
        "id": "cbcdfaa7"
      },
      "source": [
        "## 1.6 Modo de Execução\n",
        "\n",
        "**Eager**:\n",
        "O modo de execução ansioso do TensorFlow é um tipo de programação imperativa, que é a mesma do Python nativo. Quando você executa uma determinada operação, o sistema retorna imediatamente um resultado.\n",
        "\n",
        "**Graph**:\n",
        "O TensorFlow 1 adota o modo de grafo para primeiro construir um grafo computacional, habilitar uma sessão e, em seguida, alimentar os dados reais para obter um resultado.\n",
        "\n",
        "No modo de execução **Eager**, a depuração do código é mais fácil, mas a eficiência da execução do código é menor. O código a seguir implementa a multiplicação simples usando o TensorFlow para comparar as diferenças entre o modo de execução antecipado e o modo gráfico."
      ]
    },
    {
      "cell_type": "code",
      "execution_count": 36,
      "id": "f673eae7",
      "metadata": {
        "id": "f673eae7",
        "colab": {
          "base_uri": "https://localhost:8080/"
        },
        "outputId": "623553ef-5adc-4afc-fe7e-b6bbc3375f95"
      },
      "outputs": [
        {
          "output_type": "stream",
          "name": "stdout",
          "text": [
            "tf.Tensor(\n",
            "[[4. 6.]\n",
            " [4. 6.]], shape=(2, 2), dtype=float32)\n"
          ]
        }
      ],
      "source": [
        "x = tf.ones((2, 2), dtype=tf.dtypes.float32)\n",
        "y = tf.constant([[1, 2], [3, 4]], dtype=tf.dtypes.float32)\n",
        "z = tf.matmul(x, y)\n",
        "print(z)"
      ]
    },
    {
      "cell_type": "markdown",
      "id": "7bb0e6ac",
      "metadata": {
        "id": "7bb0e6ac"
      },
      "source": [
        "### 1.6.1 Modo Tensorflow 1.x - Grafo Estático"
      ]
    },
    {
      "cell_type": "code",
      "execution_count": 37,
      "id": "1b4af1ca",
      "metadata": {
        "id": "1b4af1ca",
        "colab": {
          "base_uri": "https://localhost:8080/"
        },
        "outputId": "db546295-c664-4a61-c815-7916434b2a44"
      },
      "outputs": [
        {
          "output_type": "stream",
          "name": "stdout",
          "text": [
            "[[4. 6.]\n",
            " [4. 6.]]\n"
          ]
        }
      ],
      "source": [
        "import tensorflow.compat.v1 as tf\n",
        "tf.disable_eager_execution()\n",
        "\n",
        "\n",
        "a = tf.ones((2, 2), dtype=tf.dtypes.float32)\n",
        "b = tf.constant([[1, 2],[3, 4]], dtype=tf.dtypes.float32)\n",
        "c = tf.matmul(a, b)\n",
        "\n",
        "with tf.Session() as sess:\n",
        "    print(sess.run(c))"
      ]
    },
    {
      "cell_type": "markdown",
      "id": "c05463b3",
      "metadata": {
        "id": "c05463b3"
      },
      "source": [
        "### 1.6.2 Modo Tensorflow 2 - Modo Eager"
      ]
    },
    {
      "cell_type": "markdown",
      "id": "e2723b26",
      "metadata": {
        "id": "e2723b26"
      },
      "source": [
        "Reinicie o kernel para restaurar o TensorFlow para a versão 2 e habilitar o modo de execução **Eager**. Outra vantagem deste modo está na disponibilidade de funções nativas do Python, como a seguinte declaração de condição:"
      ]
    },
    {
      "cell_type": "code",
      "execution_count": 46,
      "id": "d8861756",
      "metadata": {
        "id": "d8861756",
        "colab": {
          "base_uri": "https://localhost:8080/",
          "height": 383
        },
        "outputId": "519da0cf-4f7f-4442-8a21-8c45d3a48cf8"
      },
      "outputs": [
        {
          "output_type": "stream",
          "name": "stdout",
          "text": [
            "Tensor(\"random_uniform_5/RandomUniform:0\", shape=(), dtype=float32)\n"
          ]
        },
        {
          "output_type": "error",
          "ename": "AttributeError",
          "evalue": "ignored",
          "traceback": [
            "\u001b[0;31m---------------------------------------------------------------------------\u001b[0m",
            "\u001b[0;31mAttributeError\u001b[0m                            Traceback (most recent call last)",
            "\u001b[0;32m<ipython-input-46-17e85efc29c9>\u001b[0m in \u001b[0;36m<cell line: 6>\u001b[0;34m()\u001b[0m\n\u001b[1;32m      4\u001b[0m \u001b[0mprint\u001b[0m\u001b[0;34m(\u001b[0m\u001b[0mthre_1\u001b[0m\u001b[0;34m)\u001b[0m\u001b[0;34m\u001b[0m\u001b[0;34m\u001b[0m\u001b[0m\n\u001b[1;32m      5\u001b[0m \u001b[0;34m\u001b[0m\u001b[0m\n\u001b[0;32m----> 6\u001b[0;31m \u001b[0;32mif\u001b[0m \u001b[0mthre_1\u001b[0m\u001b[0;34m.\u001b[0m\u001b[0mnumpy\u001b[0m\u001b[0;34m(\u001b[0m\u001b[0;34m)\u001b[0m \u001b[0;34m>\u001b[0m \u001b[0;36m0.5\u001b[0m\u001b[0;34m:\u001b[0m\u001b[0;34m\u001b[0m\u001b[0;34m\u001b[0m\u001b[0m\n\u001b[0m\u001b[1;32m      7\u001b[0m     \u001b[0my\u001b[0m \u001b[0;34m=\u001b[0m \u001b[0mtf\u001b[0m\u001b[0;34m.\u001b[0m\u001b[0mmatmul\u001b[0m\u001b[0;34m(\u001b[0m\u001b[0mx\u001b[0m\u001b[0;34m,\u001b[0m \u001b[0mx\u001b[0m\u001b[0;34m)\u001b[0m\u001b[0;34m\u001b[0m\u001b[0;34m\u001b[0m\u001b[0m\n\u001b[1;32m      8\u001b[0m \u001b[0;32melse\u001b[0m\u001b[0;34m:\u001b[0m\u001b[0;34m\u001b[0m\u001b[0;34m\u001b[0m\u001b[0m\n",
            "\u001b[0;32m/usr/local/lib/python3.10/dist-packages/tensorflow/python/framework/ops.py\u001b[0m in \u001b[0;36m__getattr__\u001b[0;34m(self, name)\u001b[0m\n\u001b[1;32m    428\u001b[0m         \u001b[0mnp_config\u001b[0m\u001b[0;34m.\u001b[0m\u001b[0menable_numpy_behavior\u001b[0m\u001b[0;34m(\u001b[0m\u001b[0;34m)\u001b[0m\u001b[0;34m\u001b[0m\u001b[0;34m\u001b[0m\u001b[0m\n\u001b[1;32m    429\u001b[0m       \"\"\")\n\u001b[0;32m--> 430\u001b[0;31m     \u001b[0mself\u001b[0m\u001b[0;34m.\u001b[0m\u001b[0m__getattribute__\u001b[0m\u001b[0;34m(\u001b[0m\u001b[0mname\u001b[0m\u001b[0;34m)\u001b[0m\u001b[0;34m\u001b[0m\u001b[0;34m\u001b[0m\u001b[0m\n\u001b[0m\u001b[1;32m    431\u001b[0m \u001b[0;34m\u001b[0m\u001b[0m\n\u001b[1;32m    432\u001b[0m   \u001b[0;34m@\u001b[0m\u001b[0mproperty\u001b[0m\u001b[0;34m\u001b[0m\u001b[0;34m\u001b[0m\u001b[0m\n",
            "\u001b[0;31mAttributeError\u001b[0m: 'Tensor' object has no attribute 'numpy'"
          ]
        }
      ],
      "source": [
        "import tensorflow as tf\n",
        "thre_1 = tf.random.uniform([], 0, 1)\n",
        "x = tf.reshape(tf.range(0, 4), [2, 2])\n",
        "print(thre_1)\n",
        "\n",
        "if thre_1.numpy() > 0.5:\n",
        "    y = tf.matmul(x, x)\n",
        "else:\n",
        "    y = tf.add(x, x)"
      ]
    },
    {
      "cell_type": "markdown",
      "id": "08cdfb92",
      "metadata": {
        "id": "08cdfb92"
      },
      "source": [
        "Com o modo de execução **Eager**, esse fluxo de controle dinâmico pode gerar um valor NumPy extraível por um tensor, sem usar operadores como tf.cond e tf.while fornecidos no modo de **grafo**."
      ]
    },
    {
      "cell_type": "markdown",
      "id": "6cfa2a86",
      "metadata": {
        "id": "6cfa2a86"
      },
      "source": [
        "## 1.7 AutoGraph\n",
        "\n",
        "Quando usado para comentar uma função, o decorador **tf.function** pode ser chamado como qualquer outra função. tf.function será compilado em um grafo, para que possa ser executado com mais eficiência em uma GPU ou TPU. Nesse caso, a função se torna uma operação no TensorFlow. A função pode ser chamada diretamente para gerar um valor de retorno. No entanto, a função é executada no modo de grafo e os valores das variáveis intermediárias não podem ser visualizados diretamente."
      ]
    },
    {
      "cell_type": "code",
      "execution_count": 43,
      "id": "f6b245a1",
      "metadata": {
        "id": "f6b245a1"
      },
      "outputs": [],
      "source": [
        "@tf.function\n",
        "def simple_nn_layer(w,x,b):\n",
        "    print(b)\n",
        "    return tf.nn.relu(tf.matmul(w, x)+b)"
      ]
    },
    {
      "cell_type": "code",
      "execution_count": 44,
      "id": "84f3dc50",
      "metadata": {
        "id": "84f3dc50",
        "colab": {
          "base_uri": "https://localhost:8080/"
        },
        "outputId": "a4e41714-8de7-4a60-d148-a3010a4f4430"
      },
      "outputs": [
        {
          "output_type": "stream",
          "name": "stdout",
          "text": [
            "Tensor(\"b:0\", shape=(), dtype=float32)\n"
          ]
        },
        {
          "output_type": "execute_result",
          "data": {
            "text/plain": [
              "<tf.Tensor 'PartitionedCall:0' shape=(3, 3) dtype=float32>"
            ]
          },
          "metadata": {},
          "execution_count": 44
        }
      ],
      "source": [
        "w = tf.random.uniform((3, 3))\n",
        "x = tf.random.uniform((3, 3))\n",
        "b = tf.constant(0.5, dtype='float32')\n",
        "simple_nn_layer(w,x,b)"
      ]
    },
    {
      "cell_type": "markdown",
      "id": "74ee1fa1",
      "metadata": {
        "id": "74ee1fa1"
      },
      "source": [
        "De acordo com o resultado de saída, o valor de b na função não pode ser visualizado diretamente, mas o valor de retorno pode ser visualizado usando .numpy().\n",
        "\n",
        "A seguir, comparamos o desempenho do gráfico e os modos de execução **Eager** executando a mesma operação (computação LSTM de uma camada)."
      ]
    },
    {
      "cell_type": "code",
      "execution_count": 45,
      "id": "54017bb3",
      "metadata": {
        "id": "54017bb3",
        "colab": {
          "base_uri": "https://localhost:8080/"
        },
        "outputId": "58ca8e9c-780a-4a2a-89cf-7691fa55b5fa"
      },
      "outputs": [
        {
          "output_type": "stream",
          "name": "stdout",
          "text": [
            "Tempo CNN execução em modo Eager: 0.031986316000001125\n",
            "Tempo CNN execução em modo Grafo: 0.014621519999991506\n"
          ]
        }
      ],
      "source": [
        "# Use the timeit module to measure the execution time of a small code segment.\n",
        "import timeit\n",
        "\n",
        "# Criando uma camada convulucional CNN\n",
        "CNN_cell = tf.keras.layers.Conv2D(filters=100,kernel_size=2,strides=(1,1))\n",
        "\n",
        "# Usamos @tf.function para converter a operação em um grafo estático\n",
        "@tf.function\n",
        "def CNN_fn(image):\n",
        "    return CNN_cell(image)\n",
        "\n",
        "image = tf.zeros([100, 200, 200, 3])\n",
        "\n",
        "# Comparando os dois modos de execução\n",
        "CNN_cell(image)\n",
        "CNN_fn(image)\n",
        "\n",
        "# Usamos timeit.timeit para mensurar o tempo de execução do código por 10 vezes\n",
        "print(\"Tempo CNN execução em modo Eager:\", timeit.timeit(lambda: CNN_cell(image), number=10))\n",
        "print(\"Tempo CNN execução em modo Grafo:\", timeit.timeit(lambda: CNN_fn(image), number=10))"
      ]
    },
    {
      "cell_type": "code",
      "execution_count": null,
      "id": "da6f0545",
      "metadata": {
        "id": "da6f0545"
      },
      "outputs": [],
      "source": []
    }
  ],
  "metadata": {
    "kernelspec": {
      "display_name": "Python 3 (ipykernel)",
      "language": "python",
      "name": "python3"
    },
    "language_info": {
      "codemirror_mode": {
        "name": "ipython",
        "version": 3
      },
      "file_extension": ".py",
      "mimetype": "text/x-python",
      "name": "python",
      "nbconvert_exporter": "python",
      "pygments_lexer": "ipython3",
      "version": "3.10.4"
    },
    "colab": {
      "provenance": [],
      "include_colab_link": true
    }
  },
  "nbformat": 4,
  "nbformat_minor": 5
}